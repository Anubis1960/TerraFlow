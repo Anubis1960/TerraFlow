{
 "cells": [
  {
   "cell_type": "code",
   "id": "initial_id",
   "metadata": {
    "collapsed": true,
    "ExecuteTime": {
     "end_time": "2025-06-14T01:23:22.507730Z",
     "start_time": "2025-06-14T01:23:22.133440Z"
    }
   },
   "source": [
    "from warnings import catch_warnings\n",
    "\n",
    "import pandas as pd\n",
    "import os\n",
    "import cv2\n",
    "import numpy as np\n",
    "import tensorflow as tf\n",
    "import matplotlib.pyplot as plt\n",
    "from sklearn.model_selection import train_test_split\n",
    "from sklearn.utils import compute_class_weight"
   ],
   "outputs": [
    {
     "ename": "ModuleNotFoundError",
     "evalue": "No module named 'tensorflow'",
     "output_type": "error",
     "traceback": [
      "\u001B[31m---------------------------------------------------------------------------\u001B[39m",
      "\u001B[31mModuleNotFoundError\u001B[39m                       Traceback (most recent call last)",
      "\u001B[36mCell\u001B[39m\u001B[36m \u001B[39m\u001B[32mIn[1]\u001B[39m\u001B[32m, line 7\u001B[39m\n\u001B[32m      5\u001B[39m \u001B[38;5;28;01mimport\u001B[39;00m\u001B[38;5;250m \u001B[39m\u001B[34;01mcv2\u001B[39;00m\n\u001B[32m      6\u001B[39m \u001B[38;5;28;01mimport\u001B[39;00m\u001B[38;5;250m \u001B[39m\u001B[34;01mnumpy\u001B[39;00m\u001B[38;5;250m \u001B[39m\u001B[38;5;28;01mas\u001B[39;00m\u001B[38;5;250m \u001B[39m\u001B[34;01mnp\u001B[39;00m\n\u001B[32m----> \u001B[39m\u001B[32m7\u001B[39m \u001B[38;5;28;01mimport\u001B[39;00m\u001B[38;5;250m \u001B[39m\u001B[34;01mtensorflow\u001B[39;00m\u001B[38;5;250m \u001B[39m\u001B[38;5;28;01mas\u001B[39;00m\u001B[38;5;250m \u001B[39m\u001B[34;01mtf\u001B[39;00m\n\u001B[32m      8\u001B[39m \u001B[38;5;28;01mimport\u001B[39;00m\u001B[38;5;250m \u001B[39m\u001B[34;01mmatplotlib\u001B[39;00m\u001B[34;01m.\u001B[39;00m\u001B[34;01mpyplot\u001B[39;00m\u001B[38;5;250m \u001B[39m\u001B[38;5;28;01mas\u001B[39;00m\u001B[38;5;250m \u001B[39m\u001B[34;01mplt\u001B[39;00m\n\u001B[32m      9\u001B[39m \u001B[38;5;28;01mfrom\u001B[39;00m\u001B[38;5;250m \u001B[39m\u001B[34;01msklearn\u001B[39;00m\u001B[34;01m.\u001B[39;00m\u001B[34;01mmodel_selection\u001B[39;00m\u001B[38;5;250m \u001B[39m\u001B[38;5;28;01mimport\u001B[39;00m train_test_split\n",
      "\u001B[31mModuleNotFoundError\u001B[39m: No module named 'tensorflow'"
     ]
    }
   ],
   "execution_count": 1
  },
  {
   "metadata": {
    "ExecuteTime": {
     "end_time": "2025-05-25T20:40:45.666069Z",
     "start_time": "2025-05-25T20:40:45.662072Z"
    }
   },
   "cell_type": "code",
   "source": [
    "tf.config.threading.set_intra_op_parallelism_threads(4)\n",
    "tf.config.threading.set_inter_op_parallelism_threads(4)"
   ],
   "id": "c70490089dbb453",
   "outputs": [],
   "execution_count": 2
  },
  {
   "metadata": {
    "ExecuteTime": {
     "end_time": "2025-05-25T20:40:45.676070Z",
     "start_time": "2025-05-25T20:40:45.672070Z"
    }
   },
   "cell_type": "code",
   "source": [
    "def load_images_from_folder(folder_path, img_size=(48, 48)):\n",
    "    \"\"\"\n",
    "    Loads images from a folder, preprocesses them:\n",
    "    - Converts to grayscale\n",
    "    - Resizes to specified dimensions\n",
    "    - Normalizes pixel values to [0, 1]\n",
    "\n",
    "    Skips invalid or unreadable files.\n",
    "\n",
    "    Args:\n",
    "        folder_path (str): Path to the folder containing images\n",
    "        img_size (tuple): Target size for resizing (width, height)\n",
    "\n",
    "    Returns:\n",
    "        np.array: Array of preprocessed images with shape (num_samples, img_size[0], img_size[1])\n",
    "    \"\"\"\n",
    "    processed = []\n",
    "\n",
    "    if not os.path.exists(folder_path):\n",
    "        print(f\"⚠️ Folder does not exist: {folder_path}\")\n",
    "        return np.array(processed)\n",
    "\n",
    "    max_images=1_000\n",
    "\n",
    "    for filename in os.listdir(folder_path):\n",
    "        if max_images == 0:\n",
    "            break\n",
    "        max_images-=1\n",
    "        img_path = os.path.join(folder_path, filename)\n",
    "\n",
    "        # Load image\n",
    "        img = cv2.imread(img_path)\n",
    "\n",
    "        if img is None:\n",
    "            print(f\"❌ Failed to load image: {img_path}\")\n",
    "            continue\n",
    "\n",
    "        try:\n",
    "            # # Convert to grayscale\n",
    "            gray = cv2.cvtColor(img, cv2.COLOR_BGR2GRAY)\n",
    "\n",
    "            # Resize image\n",
    "            resized = cv2.resize(img, img_size, interpolation=cv2.INTER_AREA)\n",
    "\n",
    "            # Normalize pixel values to [0, 1]\n",
    "            normalized = resized.astype('float32') / 255.0\n",
    "\n",
    "            # Add to list\n",
    "            processed.append(normalized)\n",
    "\n",
    "        except Exception as e:\n",
    "            print(f\"Error processing image {img_path}: {e}\")\n",
    "            continue\n",
    "\n",
    "    return np.array(processed)"
   ],
   "id": "6ddf2209147e9102",
   "outputs": [],
   "execution_count": 3
  },
  {
   "metadata": {
    "ExecuteTime": {
     "end_time": "2025-05-25T20:40:45.683735Z",
     "start_time": "2025-05-25T20:40:45.681072Z"
    }
   },
   "cell_type": "code",
   "source": [
    "def combine_arrays(*arrays):\n",
    "    return np.concatenate([arr for arr in arrays if len(arr) > 0])"
   ],
   "id": "728a71d7731a407d",
   "outputs": [],
   "execution_count": 4
  },
  {
   "metadata": {
    "ExecuteTime": {
     "end_time": "2025-05-25T20:53:14.080246Z",
     "start_time": "2025-05-25T20:40:45.997199Z"
    }
   },
   "cell_type": "code",
   "source": [
    "directories = [\n",
    "    r'merge\\Apple__black_rot',\n",
    "    r'merge\\Apple__healthy',\n",
    "    r'merge\\Apple__rust',\n",
    "    r'merge\\Apple__scab',\n",
    "    r'merge\\Cassava__bacterial_blight',\n",
    "    r'merge\\Cassava__brown_streak_disease',\n",
    "    r'merge\\Cassava__green_mottle',\n",
    "    r'merge\\Cassava__healthy',\n",
    "    r'merge\\Cassava__mosaic_disease',\n",
    "    r'merge\\Cherry__healthy',\n",
    "    r'merge\\Cherry__powdery_mildew',\n",
    "    r'merge\\Chili__healthy',\n",
    "    r'merge\\Chili__leaf curl',\n",
    "    r'merge\\Chili__leaf spot',\n",
    "    r'merge\\Chili__whitefly',\n",
    "    r'merge\\Chili__yellowish',\n",
    "    r'merge\\Coffee__cercospora_leaf_spot',\n",
    "    r'merge\\Coffee__healthy',\n",
    "    r'merge\\Coffee__red_spider_mite',\n",
    "    r'merge\\Coffee__rust',\n",
    "    r'merge\\Corn__common_rust',\n",
    "    r'merge\\Corn__gray_leaf_spot',\n",
    "    r'merge\\Corn__healthy',\n",
    "    r'merge\\Corn__northern_leaf_blight',\n",
    "    r'merge\\Cucumber__diseased',\n",
    "    r'merge\\Cucumber__healthy',\n",
    "    r'merge\\Gauva__diseased',\n",
    "    r'merge\\Gauva__healthy',\n",
    "    r'merge\\Grape__black_measles',\n",
    "    r'merge\\Grape__black_rot',\n",
    "    r'merge\\Grape__healthy',\n",
    "    r'merge\\Grape__leaf_blight_(isariopsis_leaf_spot)',\n",
    "    r'merge\\Jamun__diseased',\n",
    "    r'merge\\Jamun__healthy',\n",
    "    r'merge\\Lemon__diseased',\n",
    "    r'merge\\Lemon__healthy',\n",
    "    r'merge\\Mango__diseased',\n",
    "    r'merge\\Mango__healthy',\n",
    "    r'merge\\Peach__bacterial_spot',\n",
    "    r'merge\\Peach__healthy',\n",
    "    r'merge\\Pepper_bell__bacterial_spot',\n",
    "    r'merge\\Pepper_bell__healthy',\n",
    "    r'merge\\Pomegranate__diseased',\n",
    "    r'merge\\Pomegranate__healthy',\n",
    "    r'merge\\Potato__early_blight',\n",
    "    r'merge\\Potato__healthy',\n",
    "    r'merge\\Potato__late_blight',\n",
    "    r'merge\\Rice__brown_spot',\n",
    "    r'merge\\Rice__healthy',\n",
    "    r'merge\\Rice__hispa',\n",
    "    r'merge\\Rice__leaf_blast',\n",
    "    r'merge\\Rice__neck_blast',\n",
    "    r'merge\\Soybean__bacterial_blight',\n",
    "    r'merge\\Soybean__caterpillar',\n",
    "    r'merge\\Soybean__diabrotica_speciosa',\n",
    "    r'merge\\Soybean__downy_mildew',\n",
    "    r'merge\\Soybean__healthy',\n",
    "    r'merge\\Soybean__mosaic_virus',\n",
    "    r'merge\\Soybean__powdery_mildew',\n",
    "    r'merge\\Soybean__rust',\n",
    "    r'merge\\Soybean__southern_blight',\n",
    "    r'merge\\Strawberry__healthy',\n",
    "    r'merge\\Strawberry___leaf_scorch',\n",
    "    r'merge\\Sugarcane__bacterial_blight',\n",
    "    r'merge\\Sugarcane__healthy',\n",
    "    r'merge\\Sugarcane__red_rot',\n",
    "    r'merge\\Sugarcane__red_stripe',\n",
    "    r'merge\\Sugarcane__rust',\n",
    "    r'merge\\Tea__algal_leaf',\n",
    "    r'merge\\Tea__anthracnose',\n",
    "    r'merge\\Tea__bird_eye_spot',\n",
    "    r'merge\\Tea__brown_blight',\n",
    "    r'merge\\Tea__healthy',\n",
    "    r'merge\\Tea__red_leaf_spot',\n",
    "    r'merge\\Tomato__bacterial_spot',\n",
    "    r'merge\\Tomato__early_blight',\n",
    "    r'merge\\Tomato__healthy',\n",
    "    r'merge\\Tomato__late_blight',\n",
    "    r'merge\\Tomato__leaf_mold',\n",
    "    r'merge\\Tomato__mosaic_virus',\n",
    "    r'merge\\Tomato__septoria_leaf_spot',\n",
    "    r'merge\\Tomato__spider_mites_(two_spotted_spider_mite)',\n",
    "    r'merge\\Tomato__target_spot',\n",
    "    r'merge\\Tomato__yellow_leaf_curl_virus',\n",
    "    r'merge\\Wheat__brown_rust',\n",
    "    r'merge\\Wheat__healthy',\n",
    "    r'merge\\Wheat__septoria',\n",
    "    r'merge\\Wheat__yellow_rust'\n",
    "]\n",
    "\n",
    "# Dictionary to hold all loaded data\n",
    "images = {}\n",
    "\n",
    "# Loop through each directory and load images\n",
    "for folder in directories:\n",
    "    class_name = folder.split('\\\\')[-1]  # Extract folder name (e.g., Apple__black_rot)\n",
    "    imags = load_images_from_folder(folder)\n",
    "    images[class_name] = imags\n"
   ],
   "id": "1453e4d9a43e4b84",
   "outputs": [
    {
     "name": "stdout",
     "output_type": "stream",
     "text": [
      "❌ Failed to load image: merge\\Soybean__downy_mildew\\C+¦pia de mildio4cvg.JPG\n",
      "❌ Failed to load image: merge\\Soybean__downy_mildew\\C+¦pia de mildio8cgv.JPG\n",
      "❌ Failed to load image: merge\\Soybean__powdery_mildew\\O+¡dio.jpg\n",
      "❌ Failed to load image: merge\\Wheat__brown_rust\\Thumbs.db\n"
     ]
    }
   ],
   "execution_count": 5
  },
  {
   "metadata": {
    "ExecuteTime": {
     "end_time": "2025-05-25T20:53:14.123420Z",
     "start_time": "2025-05-25T20:53:14.119403Z"
    }
   },
   "cell_type": "code",
   "source": [
    "CLASS_TO_INT = {\n",
    "    'Fungal': 0,\n",
    "    'Bacterial': 1,\n",
    "    'Viral': 2,\n",
    "    'Pest': 3,\n",
    "    'Disorder': 4,\n",
    "    'Healthy': 5\n",
    "}\n",
    "\n",
    "\n",
    "GENERALIZED_CLASSES = {\n",
    "    0 : [\n",
    "        images['Apple__black_rot'],\n",
    "        images['Grape__black_rot'],\n",
    "        images['Corn__common_rust'],\n",
    "        images['Corn__gray_leaf_spot'],\n",
    "        images['Corn__northern_leaf_blight'],\n",
    "        images['Cherry__powdery_mildew'],\n",
    "        images['Chili__leaf spot'],\n",
    "        images['Coffee__cercospora_leaf_spot'],\n",
    "        images['Coffee__rust'],\n",
    "        images['Cucumber__diseased'],\n",
    "        images['Grape__leaf_blight_(isariopsis_leaf_spot)'],\n",
    "        images['Strawberry___leaf_scorch'],\n",
    "        images['Tea__algal_leaf'],\n",
    "        images['Tea__anthracnose'],\n",
    "        images['Tea__bird_eye_spot'],\n",
    "        images['Tea__brown_blight'],\n",
    "        images['Tea__red_leaf_spot'],\n",
    "        images['Tomato__early_blight'],\n",
    "        images['Tomato__late_blight'],\n",
    "        images['Tomato__leaf_mold'],\n",
    "        images['Tomato__septoria_leaf_spot'],\n",
    "        images['Tomato__target_spot'],\n",
    "        images['Wheat__brown_rust'],\n",
    "        images['Wheat__yellow_rust'],\n",
    "        images['Wheat__septoria']\n",
    "    ],\n",
    "    1: [\n",
    "        images['Apple__scab'],\n",
    "        images['Cassava__bacterial_blight'],\n",
    "        images['Chili__leaf curl'],\n",
    "        images['Chili__whitefly'],\n",
    "        images['Peach__bacterial_spot'],\n",
    "        images['Pepper_bell__bacterial_spot'],\n",
    "        images['Potato__early_blight'],\n",
    "        images['Potato__late_blight'],\n",
    "        images['Sugarcane__bacterial_blight'],\n",
    "        images['Tomato__bacterial_spot'],\n",
    "        images['Soybean__bacterial_blight']\n",
    "    ],\n",
    "    2: [\n",
    "        images['Chili__yellowish'],\n",
    "        images['Jamun__diseased'],\n",
    "        images['Lemon__diseased'],\n",
    "        images['Mango__diseased'],\n",
    "        images['Pomegranate__diseased'],\n",
    "        images['Tomato__mosaic_virus'],\n",
    "        images['Tomato__yellow_leaf_curl_virus'],\n",
    "        images['Soybean__mosaic_virus']\n",
    "    ],\n",
    "    3: [\n",
    "        images['Apple__rust'],\n",
    "        images['Cassava__mosaic_disease'],\n",
    "        images['Rice__hispa'],\n",
    "        images['Soybean__caterpillar'],\n",
    "        images['Soybean__diabrotica_speciosa'],\n",
    "        images['Coffee__red_spider_mite'],\n",
    "        images['Tomato__spider_mites_(two_spotted_spider_mite)']\n",
    "    ],\n",
    "    4: [\n",
    "        images['Cassava__brown_streak_disease'],\n",
    "        images['Cassava__green_mottle'],\n",
    "        images['Gauva__diseased'],\n",
    "        images['Grape__black_measles'],\n",
    "        images['Rice__leaf_blast'],\n",
    "        images['Rice__neck_blast'],\n",
    "        images['Soybean__southern_blight'],\n",
    "        images['Sugarcane__red_rot'],\n",
    "        images['Sugarcane__red_stripe'],\n",
    "        images['Sugarcane__rust']\n",
    "    ],\n",
    "    5: [\n",
    "        images['Apple__healthy'],\n",
    "        images['Cassava__healthy'],\n",
    "        images['Cherry__healthy'],\n",
    "        images['Chili__healthy'],\n",
    "        images['Coffee__healthy'],\n",
    "        images['Corn__healthy'],\n",
    "        images['Cucumber__healthy'],\n",
    "        images['Gauva__healthy'],\n",
    "        images['Grape__healthy'],\n",
    "        images['Jamun__healthy'],\n",
    "        images['Lemon__healthy'],\n",
    "        images['Mango__healthy'],\n",
    "        images['Peach__healthy'],\n",
    "        images['Pepper_bell__healthy'],\n",
    "        images['Pomegranate__healthy'],\n",
    "        images['Potato__healthy'],\n",
    "        images['Rice__healthy'],\n",
    "        images['Soybean__healthy'],\n",
    "        images['Strawberry__healthy'],\n",
    "        images['Sugarcane__healthy'],\n",
    "        images['Tea__healthy'],\n",
    "        images['Tomato__healthy'],\n",
    "        images['Wheat__healthy']\n",
    "    ]\n",
    "}"
   ],
   "id": "66bbde1cfe82a8bd",
   "outputs": [],
   "execution_count": 6
  },
  {
   "metadata": {
    "ExecuteTime": {
     "end_time": "2025-05-25T20:53:14.380301Z",
     "start_time": "2025-05-25T20:53:14.148625Z"
    }
   },
   "cell_type": "code",
   "source": [
    "generalized_datasets = {}\n",
    "\n",
    "for disease, array_list in GENERALIZED_CLASSES.items():\n",
    "    try:\n",
    "        combined = combine_arrays(*array_list)\n",
    "        generalized_datasets[disease] = combined\n",
    "        print(f\"{disease}: {combined.shape}\")\n",
    "    except Exception as e:\n",
    "        print(f\"Error combining {disease}: {e}\")"
   ],
   "id": "ca73100c52d5ccaf",
   "outputs": [
    {
     "name": "stdout",
     "output_type": "stream",
     "text": [
      "0: (17133, 48, 48, 3)\n",
      "1: (6542, 48, 48, 3)\n",
      "2: (2463, 48, 48, 3)\n",
      "3: (4533, 48, 48, 3)\n",
      "4: (4534, 48, 48, 3)\n",
      "5: (12478, 48, 48, 3)\n"
     ]
    }
   ],
   "execution_count": 7
  },
  {
   "metadata": {
    "ExecuteTime": {
     "end_time": "2025-05-25T20:53:14.406420Z",
     "start_time": "2025-05-25T20:53:14.402420Z"
    }
   },
   "cell_type": "code",
   "source": [
    "def compute_generalized_class_weights(generalized_datasets):\n",
    "    \"\"\"\n",
    "    Computes class weights for generalized disease categories.\n",
    "\n",
    "    Args:\n",
    "        generalized_datasets (dict): Dictionary mapping class names to arrays of images\n",
    "\n",
    "    Returns:\n",
    "        dict: Mapping of class name to computed weight\n",
    "    \"\"\"\n",
    "    # Step 1: Prepare y_labels (list of labels for all samples)\n",
    "    y_labels = []\n",
    "    class_names = list(generalized_datasets.keys())\n",
    "\n",
    "    for idx, cls_name in enumerate(class_names):\n",
    "        num_samples = len(generalized_datasets[cls_name])\n",
    "        y_labels.extend([idx] * num_samples)  # Assign class index as label\n",
    "\n",
    "    y_labels = np.array(y_labels)\n",
    "\n",
    "    # Step 2: Compute class weights using 'balanced' mode\n",
    "    class_weights = compute_class_weight('balanced', classes=np.unique(y_labels), y=y_labels)\n",
    "\n",
    "    # Step 3: Return dictionary mapping class name to weight\n",
    "    return dict(zip(class_names, class_weights))"
   ],
   "id": "f27c174fab23676f",
   "outputs": [],
   "execution_count": 8
  },
  {
   "metadata": {
    "ExecuteTime": {
     "end_time": "2025-05-25T20:53:14.428895Z",
     "start_time": "2025-05-25T20:53:14.425811Z"
    }
   },
   "cell_type": "code",
   "source": [
    "def restructure_class_datasets(class_arrays_dict, train_ratio=0.7, val_ratio=0.15, test_ratio=0.15):\n",
    "    \"\"\"\n",
    "    Takes a dictionary of {class_name: array_of_images}, combines train+valid,\n",
    "    then splits into new train/val/test sets.\n",
    "\n",
    "    Returns:\n",
    "        X_train, y_train, X_val, y_val, X_test, y_test\n",
    "    \"\"\"\n",
    "    assert round(train_ratio + val_ratio + test_ratio) == 1, \"Ratios must sum to 1\"\n",
    "\n",
    "    all_X = []\n",
    "    all_y = []\n",
    "\n",
    "    # Step 1: Combine each class and assign labels\n",
    "    class_names = list(class_arrays_dict.keys())\n",
    "    for idx, cls_name in enumerate(class_names):\n",
    "        images = class_arrays_dict[cls_name]\n",
    "        labels = [idx] * len(images)\n",
    "\n",
    "        all_X.append(images)\n",
    "        all_y.extend(labels)\n",
    "\n",
    "    all_X = np.vstack(all_X)\n",
    "    all_y = np.array(all_y)\n",
    "\n",
    "    # Step 2: First split into train + remaining\n",
    "    X_train, X_temp, y_train, y_temp = train_test_split(\n",
    "        all_X, all_y, test_size=(val_ratio + test_ratio), random_state=42\n",
    "    )\n",
    "\n",
    "    # Step 3: Split remaining into val and test\n",
    "    val_test_ratio = test_ratio / (val_ratio + test_ratio)\n",
    "    X_val, X_test, y_val, y_test = train_test_split(\n",
    "        X_temp, y_temp, test_size=val_test_ratio, random_state=42\n",
    "    )\n",
    "\n",
    "    return (X_train, y_train), (X_val, y_val), (X_test, y_test), class_names"
   ],
   "id": "1ba5adae85984a60",
   "outputs": [],
   "execution_count": 9
  },
  {
   "metadata": {
    "ExecuteTime": {
     "end_time": "2025-05-25T20:53:15.004595Z",
     "start_time": "2025-05-25T20:53:14.448123Z"
    }
   },
   "cell_type": "code",
   "source": "(X_train, y_train), (X_val, y_val), (X_test, y_test), class_names = restructure_class_datasets(generalized_datasets)",
   "id": "9a21877895adde45",
   "outputs": [],
   "execution_count": 10
  },
  {
   "metadata": {
    "ExecuteTime": {
     "end_time": "2025-05-25T21:10:43.110902Z",
     "start_time": "2025-05-25T21:10:43.050694Z"
    }
   },
   "cell_type": "code",
   "source": [
    "model = tf.keras.models.Sequential([\n",
    "    # Block 1\n",
    "    tf.keras.layers.Conv2D(64, (3,3), padding='same', activation='relu', input_shape=(48, 48, 3)),\n",
    "    tf.keras.layers.BatchNormalization(),\n",
    "    tf.keras.layers.Conv2D(64, (3,3), padding='same', activation='relu'),\n",
    "    tf.keras.layers.BatchNormalization(),\n",
    "    tf.keras.layers.MaxPooling2D((2,2)),\n",
    "\n",
    "    # Block 2\n",
    "    tf.keras.layers.Conv2D(128, (3,3), padding='same', activation='relu'),\n",
    "    tf.keras.layers.BatchNormalization(),\n",
    "    tf.keras.layers.Conv2D(128, (3,3), padding='same', activation='relu'),\n",
    "    tf.keras.layers.BatchNormalization(),\n",
    "    tf.keras.layers.MaxPooling2D((2,2)),\n",
    "\n",
    "    # Block 3\n",
    "    tf.keras.layers.Conv2D(256, (3,3), padding='same', activation='relu'),\n",
    "    tf.keras.layers.BatchNormalization(),\n",
    "    tf.keras.layers.Conv2D(256, (3,3), padding='same', activation='relu'),\n",
    "    tf.keras.layers.BatchNormalization(),\n",
    "    tf.keras.layers.MaxPooling2D((2,2)),\n",
    "\n",
    "    # Optional: Add more blocks only if needed and image resolution allows\n",
    "\n",
    "    # Global average pooling instead of Flatten()\n",
    "    tf.keras.layers.GlobalAveragePooling2D(),\n",
    "\n",
    "    # Dense layers\n",
    "    tf.keras.layers.Dense(512, activation='relu'),\n",
    "    tf.keras.layers.Dropout(0.5),\n",
    "    tf.keras.layers.Dense(128, activation='relu'),\n",
    "    tf.keras.layers.Dropout(0.3),\n",
    "    tf.keras.layers.Dense(6, activation='softmax')\n",
    "])"
   ],
   "id": "b757be60d65f0322",
   "outputs": [
    {
     "name": "stderr",
     "output_type": "stream",
     "text": [
      "D:\\Projects\\PythonProject\\AiGeneratedIMG\\.venv\\Lib\\site-packages\\keras\\src\\layers\\convolutional\\base_conv.py:107: UserWarning: Do not pass an `input_shape`/`input_dim` argument to a layer. When using Sequential models, prefer using an `Input(shape)` object as the first layer in the model instead.\n",
      "  super().__init__(activity_regularizer=activity_regularizer, **kwargs)\n"
     ]
    }
   ],
   "execution_count": 20
  },
  {
   "metadata": {
    "ExecuteTime": {
     "end_time": "2025-05-25T21:10:53.774563Z",
     "start_time": "2025-05-25T21:10:53.771929Z"
    }
   },
   "cell_type": "code",
   "source": [
    "early_stopping = tf.keras.callbacks.EarlyStopping(\n",
    "    monitor='val_accuracy',\n",
    "    patience=7,\n",
    "    restore_best_weights=True\n",
    ")"
   ],
   "id": "11bfcc719dd5724f",
   "outputs": [],
   "execution_count": 24
  },
  {
   "metadata": {
    "ExecuteTime": {
     "end_time": "2025-05-25T21:10:48.542862Z",
     "start_time": "2025-05-25T21:10:48.538351Z"
    }
   },
   "cell_type": "code",
   "source": "model.compile(optimizer='adam', loss='sparse_categorical_crossentropy', metrics=['accuracy'])",
   "id": "1cf0120b765c12dc",
   "outputs": [],
   "execution_count": 22
  },
  {
   "metadata": {
    "ExecuteTime": {
     "end_time": "2025-05-25T21:10:49.564625Z",
     "start_time": "2025-05-25T21:10:49.561829Z"
    }
   },
   "cell_type": "code",
   "source": "print(y_train.shape)",
   "id": "2fa18b43d737a5b7",
   "outputs": [
    {
     "name": "stdout",
     "output_type": "stream",
     "text": [
      "(33378,)\n"
     ]
    }
   ],
   "execution_count": 23
  },
  {
   "metadata": {
    "ExecuteTime": {
     "end_time": "2025-05-25T21:10:54.926386Z",
     "start_time": "2025-05-25T21:10:54.918532Z"
    }
   },
   "cell_type": "code",
   "source": [
    "weights = compute_class_weight(class_weight='balanced', classes=np.unique(y_train), y=y_train)\n",
    "class_weights = dict(enumerate(weights))"
   ],
   "id": "6592c01063e2b5c7",
   "outputs": [],
   "execution_count": 25
  },
  {
   "metadata": {
    "ExecuteTime": {
     "end_time": "2025-05-25T21:10:56.185532Z",
     "start_time": "2025-05-25T21:10:55.974357Z"
    }
   },
   "cell_type": "code",
   "source": [
    "x_shuffle = np.random.permutation(len(X_train))\n",
    "X_train = X_train[x_shuffle]\n",
    "y_train = y_train[x_shuffle]"
   ],
   "id": "4544769046397ed0",
   "outputs": [],
   "execution_count": 26
  },
  {
   "metadata": {
    "ExecuteTime": {
     "end_time": "2025-05-26T00:08:52.326413Z",
     "start_time": "2025-05-25T23:32:05.501313Z"
    }
   },
   "cell_type": "code",
   "source": [
    "history = model.fit(\n",
    "    x=X_train,\n",
    "    y=y_train,\n",
    "    epochs=100,\n",
    "    batch_size=512,\n",
    "    validation_data=(X_val, y_val),\n",
    "    callbacks=[early_stopping],\n",
    "    class_weight=class_weights,\n",
    ")"
   ],
   "id": "3dca114ec56938be",
   "outputs": [
    {
     "name": "stdout",
     "output_type": "stream",
     "text": [
      "Epoch 1/100\n",
      "\u001B[1m66/66\u001B[0m \u001B[32m━━━━━━━━━━━━━━━━━━━━\u001B[0m\u001B[37m\u001B[0m \u001B[1m198s\u001B[0m 3s/step - accuracy: 0.9446 - loss: 0.1185 - val_accuracy: 0.8866 - val_loss: 0.4428\n",
      "Epoch 2/100\n",
      "\u001B[1m66/66\u001B[0m \u001B[32m━━━━━━━━━━━━━━━━━━━━\u001B[0m\u001B[37m\u001B[0m \u001B[1m207s\u001B[0m 3s/step - accuracy: 0.9554 - loss: 0.0896 - val_accuracy: 0.8937 - val_loss: 0.3259\n",
      "Epoch 3/100\n",
      "\u001B[1m66/66\u001B[0m \u001B[32m━━━━━━━━━━━━━━━━━━━━\u001B[0m\u001B[37m\u001B[0m \u001B[1m196s\u001B[0m 3s/step - accuracy: 0.9604 - loss: 0.0816 - val_accuracy: 0.8921 - val_loss: 0.3917\n",
      "Epoch 4/100\n",
      "\u001B[1m66/66\u001B[0m \u001B[32m━━━━━━━━━━━━━━━━━━━━\u001B[0m\u001B[37m\u001B[0m \u001B[1m238s\u001B[0m 4s/step - accuracy: 0.9593 - loss: 0.0853 - val_accuracy: 0.8431 - val_loss: 0.6063\n",
      "Epoch 5/100\n",
      "\u001B[1m66/66\u001B[0m \u001B[32m━━━━━━━━━━━━━━━━━━━━\u001B[0m\u001B[37m\u001B[0m \u001B[1m275s\u001B[0m 4s/step - accuracy: 0.9542 - loss: 0.1056 - val_accuracy: 0.8835 - val_loss: 0.4168\n",
      "Epoch 6/100\n",
      "\u001B[1m66/66\u001B[0m \u001B[32m━━━━━━━━━━━━━━━━━━━━\u001B[0m\u001B[37m\u001B[0m \u001B[1m275s\u001B[0m 4s/step - accuracy: 0.9644 - loss: 0.0697 - val_accuracy: 0.8895 - val_loss: 0.4349\n",
      "Epoch 7/100\n",
      "\u001B[1m66/66\u001B[0m \u001B[32m━━━━━━━━━━━━━━━━━━━━\u001B[0m\u001B[37m\u001B[0m \u001B[1m272s\u001B[0m 4s/step - accuracy: 0.9604 - loss: 0.0807 - val_accuracy: 0.8352 - val_loss: 0.6444\n",
      "Epoch 8/100\n",
      "\u001B[1m66/66\u001B[0m \u001B[32m━━━━━━━━━━━━━━━━━━━━\u001B[0m\u001B[37m\u001B[0m \u001B[1m273s\u001B[0m 4s/step - accuracy: 0.9662 - loss: 0.0718 - val_accuracy: 0.8732 - val_loss: 0.5244\n",
      "Epoch 9/100\n",
      "\u001B[1m66/66\u001B[0m \u001B[32m━━━━━━━━━━━━━━━━━━━━\u001B[0m\u001B[37m\u001B[0m \u001B[1m273s\u001B[0m 4s/step - accuracy: 0.9679 - loss: 0.0659 - val_accuracy: 0.8926 - val_loss: 0.4054\n"
     ]
    }
   ],
   "execution_count": 31
  },
  {
   "metadata": {
    "ExecuteTime": {
     "end_time": "2025-05-26T00:08:52.494025Z",
     "start_time": "2025-05-26T00:08:52.375431Z"
    }
   },
   "cell_type": "code",
   "source": [
    "# Plot the loss curves\n",
    "plt.plot(history.history['loss'], label='Train Loss')\n",
    "plt.plot(history.history['val_loss'], label='Validation Loss')\n",
    "plt.legend()\n",
    "plt.show()\n",
    "\n",
    "# Plot the accuracy curves\n",
    "plt.plot(history.history['accuracy'], label='Train Accuracy')\n",
    "plt.plot(history.history['val_accuracy'], label='Validation Accuracy')\n",
    "plt.legend()\n",
    "plt.show()"
   ],
   "id": "5d47bf18b99e1d82",
   "outputs": [
    {
     "data": {
      "text/plain": [
       "<Figure size 640x480 with 1 Axes>"
      ],
      "image/png": "[encoded data removed]"
     },
     "metadata": {},
     "output_type": "display_data"
    },
    {
     "data": {
      "text/plain": [
       "<Figure size 640x480 with 1 Axes>"
      ],
      "image/png": "[encoded data removed]"
     },
     "metadata": {},
     "output_type": "display_data"
    }
   ],
   "execution_count": 32
  },
  {
   "metadata": {
    "ExecuteTime": {
     "end_time": "2025-05-26T00:09:08.008667Z",
     "start_time": "2025-05-26T00:08:52.529348Z"
    }
   },
   "cell_type": "code",
   "source": [
    "test_loss, test_accuracy = model.evaluate(X_test, y_test)\n",
    "print(f\"Test Loss: {test_loss}\")\n",
    "print(f\"Test Accuracy: {test_accuracy}\")"
   ],
   "id": "7f1cb656a951ecf9",
   "outputs": [
    {
     "name": "stdout",
     "output_type": "stream",
     "text": [
      "\u001B[1m224/224\u001B[0m \u001B[32m━━━━━━━━━━━━━━━━━━━━\u001B[0m\u001B[37m\u001B[0m \u001B[1m15s\u001B[0m 69ms/step - accuracy: 0.8914 - loss: 0.3261\n",
      "Test Loss: 0.33317694067955017\n",
      "Test Accuracy: 0.890954852104187\n"
     ]
    }
   ],
   "execution_count": 33
  },
  {
   "metadata": {
    "ExecuteTime": {
     "end_time": "2025-05-26T00:09:08.111805Z",
     "start_time": "2025-05-26T00:09:08.037889Z"
    }
   },
   "cell_type": "code",
   "source": "model.save(\"d_color-512merged-qwen.keras\")",
   "id": "ffb487fc9a44236b",
   "outputs": [],
   "execution_count": 34
  }
 ],
 "metadata": {
  "kernelspec": {
   "display_name": "Python 3",
   "language": "python",
   "name": "python3"
  },
  "language_info": {
   "codemirror_mode": {
    "name": "ipython",
    "version": 2
   },
   "file_extension": ".py",
   "mimetype": "text/x-python",
   "name": "python",
   "nbconvert_exporter": "python",
   "pygments_lexer": "ipython2",
   "version": "2.7.6"
  }
 },
 "nbformat": 4,
 "nbformat_minor": 5
}
