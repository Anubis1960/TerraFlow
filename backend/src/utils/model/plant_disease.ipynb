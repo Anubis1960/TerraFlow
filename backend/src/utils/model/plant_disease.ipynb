{
 "cells": [
  {
   "cell_type": "code",
   "id": "initial_id",
   "metadata": {
    "collapsed": true,
    "ExecuteTime": {
     "end_time": "2025-06-14T19:40:45.607771Z",
     "start_time": "2025-06-14T19:40:45.602701Z"
    }
   },
   "source": [
    "import os\n",
    "import cv2\n",
    "import numpy as np\n",
    "import importlib\n",
    "import tensorflow as tf\n",
    "importlib.reload(tf)\n",
    "import matplotlib.pyplot as plt\n",
    "from sklearn.model_selection import train_test_split\n",
    "from sklearn.metrics import confusion_matrix\n",
    "import seaborn as sns\n",
    "from sklearn.utils import compute_class_weight\n",
    "from tensorflow.keras.applications import MobileNetV2, ResNet50V2\n",
    "from tensorflow.keras import layers, models"
   ],
   "outputs": [],
   "execution_count": 2
  },
  {
   "metadata": {
    "ExecuteTime": {
     "end_time": "2025-06-14T19:40:45.630986Z",
     "start_time": "2025-06-14T19:40:45.627985Z"
    }
   },
   "cell_type": "code",
   "source": [
    "tf.config.threading.set_intra_op_parallelism_threads(4)\n",
    "tf.config.threading.set_inter_op_parallelism_threads(4)"
   ],
   "id": "c551e8a13d1ffb6d",
   "outputs": [],
   "execution_count": 3
  },
  {
   "metadata": {
    "ExecuteTime": {
     "end_time": "2025-06-14T19:40:45.659351Z",
     "start_time": "2025-06-14T19:40:45.655143Z"
    }
   },
   "cell_type": "code",
   "source": [
    "def load_images_from_folder(folder_path, img_size=(224, 224), max_images=500):\n",
    "    \"\"\"\n",
    "    Loads images from a folder, preprocesses them:\n",
    "    - Resizes to specified dimensions\n",
    "    - Normalizes pixel values to [0, 1]\n",
    "\n",
    "    Skips invalid or unreadable files.\n",
    "\n",
    "    :param max_images: int, maximum number of images to load\n",
    "    :param folder_path: str Path to the folder containing images\n",
    "    :param img_size: tuple Target size for resizing (width, height)\n",
    "    :return: np.array, Array of preprocessed images with shape (num_samples, img_size[0], img_size[1])\n",
    "    \"\"\"\n",
    "    processed = []\n",
    "\n",
    "    if not os.path.exists(folder_path):\n",
    "        print(f\"⚠️ Folder does not exist: {folder_path}\")\n",
    "        return np.array(processed)\n",
    "    print(f\"<UNK> Processing images in folder: {folder_path}\")\n",
    "    print(len([name for name in os.listdir(folder_path) if os.path.isfile(os.path.join(folder_path, name))]))\n",
    "\n",
    "    for filename in os.listdir(folder_path):\n",
    "        if max_images == 0:\n",
    "            break\n",
    "        max_images-=1\n",
    "        img_path = os.path.join(folder_path, filename)\n",
    "\n",
    "        # Load image\n",
    "        img = cv2.imread(img_path)\n",
    "\n",
    "        if img is None:\n",
    "            print(f\"❌ Failed to load image: {img_path}\")\n",
    "            continue\n",
    "\n",
    "        try:\n",
    "            # Resize image\n",
    "            resized = cv2.resize(img, img_size, interpolation=cv2.INTER_AREA)\n",
    "\n",
    "            # Normalize pixel values to [0, 1]\n",
    "            normalized = resized.astype('float32') / 255.0\n",
    "\n",
    "            # Add to list\n",
    "            processed.append(normalized)\n",
    "\n",
    "        except Exception as e:\n",
    "            print(f\"Error processing image {img_path}: {e}\")\n",
    "            continue\n",
    "\n",
    "    return np.array(processed)"
   ],
   "id": "b32b336a70fdd02a",
   "outputs": [],
   "execution_count": 4
  },
  {
   "metadata": {
    "ExecuteTime": {
     "end_time": "2025-06-14T19:40:45.668988Z",
     "start_time": "2025-06-14T19:40:45.666187Z"
    }
   },
   "cell_type": "code",
   "source": [
    "def combine_arrays(*arrays):\n",
    "    \"\"\"\n",
    "    Combines arrays into a single array\n",
    "\n",
    "    :param arrays:\n",
    "    :return:\n",
    "    \"\"\"\n",
    "    return np.concatenate([arr for arr in arrays if len(arr) > 0])"
   ],
   "id": "9e3281993680b70e",
   "outputs": [],
   "execution_count": 5
  },
  {
   "metadata": {
    "ExecuteTime": {
     "end_time": "2025-06-14T19:40:45.705866Z",
     "start_time": "2025-06-14T19:40:45.702987Z"
    }
   },
   "cell_type": "code",
   "source": [
    "def restructure_class_datasets(class_arrays_dict, train_ratio=0.7, val_ratio=0.15, test_ratio=0.15):\n",
    "    \"\"\"\n",
    "    Takes a dictionary of {class_name: array_of_images}, combines train+valid,\n",
    "    then splits into new train/val/test sets.\n",
    "\n",
    "    :param class_arrays_dict: dict, Dictionary mapping class names to arrays of images\n",
    "    :param train_ratio: float, Ratio of train set size\n",
    "    :param val_ratio: float, Ratio of validation set size\n",
    "    :param test_ratio: float, Ratio of test set size\n",
    "    :return X_train, y_train, X_val, y_val, X_test, y_test\n",
    "    \"\"\"\n",
    "    assert round(train_ratio + val_ratio + test_ratio) == 1, \"Ratios must sum to 1\"\n",
    "\n",
    "    all_X = []\n",
    "    all_y = []\n",
    "\n",
    "    class_names = list(class_arrays_dict.keys())\n",
    "    for idx, cls_name in enumerate(class_names):\n",
    "        images = class_arrays_dict[cls_name]\n",
    "        labels = [idx] * len(images)\n",
    "\n",
    "        all_X.append(images)\n",
    "        all_y.extend(labels)\n",
    "\n",
    "    all_X = np.vstack(all_X)\n",
    "    all_y = np.array(all_y)\n",
    "\n",
    "    X_train, X_temp, y_train, y_temp = train_test_split(\n",
    "        all_X, all_y, test_size=(val_ratio + test_ratio), random_state=42\n",
    "    )\n",
    "\n",
    "    val_test_ratio = test_ratio / (val_ratio + test_ratio)\n",
    "    X_val, X_test, y_val, y_test = train_test_split(\n",
    "        X_temp, y_temp, test_size=val_test_ratio, random_state=42\n",
    "    )\n",
    "\n",
    "    return (X_train, y_train), (X_val, y_val), (X_test, y_test), class_names"
   ],
   "id": "9bb34ab2e7882bf2",
   "outputs": [],
   "execution_count": 6
  },
  {
   "metadata": {
    "ExecuteTime": {
     "end_time": "2025-06-14T19:40:45.720846Z",
     "start_time": "2025-06-14T19:40:45.713848Z"
    }
   },
   "cell_type": "code",
   "source": [
    "def preprocess_dataset(base_dir: str='merge', img_size=(224, 224), max_images=500):\n",
    "    images = {}\n",
    "\n",
    "    # Loop through each directory and load images\n",
    "    for folder in os.listdir(base_dir):\n",
    "        imags = load_images_from_folder(f\"{base_dir}/{folder}\", img_size=img_size, max_images=max_images)\n",
    "        images[folder] = imags\n",
    "\n",
    "    del imags\n",
    "\n",
    "    generalized_datasets = {}\n",
    "\n",
    "    GENERALIZED_CLASSES = {\n",
    "        0 : [\n",
    "            images['Apple__black_rot'],\n",
    "            images['Grape__black_rot'],\n",
    "            images['Corn__common_rust'],\n",
    "            images['Corn__gray_leaf_spot'],\n",
    "            images['Corn__northern_leaf_blight'],\n",
    "            images['Cherry__powdery_mildew'],\n",
    "            images['Chili__leaf spot'],\n",
    "            images['Coffee__cercospora_leaf_spot'],\n",
    "            images['Coffee__rust'],\n",
    "            images['Cucumber__diseased'],\n",
    "            images['Grape__leaf_blight_(isariopsis_leaf_spot)'],\n",
    "            images['Strawberry___leaf_scorch'],\n",
    "            images['Tea__algal_leaf'],\n",
    "            images['Tea__anthracnose'],\n",
    "            images['Tea__bird_eye_spot'],\n",
    "            images['Tea__brown_blight'],\n",
    "            images['Tea__red_leaf_spot'],\n",
    "            images['Tomato__early_blight'],\n",
    "            images['Tomato__late_blight'],\n",
    "            images['Tomato__leaf_mold'],\n",
    "            images['Tomato__septoria_leaf_spot'],\n",
    "            images['Tomato__target_spot'],\n",
    "            images['Wheat__brown_rust'],\n",
    "            images['Wheat__yellow_rust'],\n",
    "            images['Wheat__septoria']\n",
    "        ],\n",
    "        1: [\n",
    "            images['Apple__scab'],\n",
    "            images['Cassava__bacterial_blight'],\n",
    "            images['Chili__leaf curl'],\n",
    "            images['Chili__whitefly'],\n",
    "            images['Peach__bacterial_spot'],\n",
    "            images['Pepper_bell__bacterial_spot'],\n",
    "            images['Potato__early_blight'],\n",
    "            images['Potato__late_blight'],\n",
    "            images['Sugarcane__bacterial_blight'],\n",
    "            images['Tomato__bacterial_spot'],\n",
    "            images['Soybean__bacterial_blight']\n",
    "        ],\n",
    "        2: [\n",
    "            images['Chili__yellowish'],\n",
    "            images['Jamun__diseased'],\n",
    "            images['Lemon__diseased'],\n",
    "            images['Mango__diseased'],\n",
    "            images['Pomegranate__diseased'],\n",
    "            images['Tomato__mosaic_virus'],\n",
    "            images['Tomato__yellow_leaf_curl_virus'],\n",
    "            images['Soybean__mosaic_virus']\n",
    "        ],\n",
    "        3: [\n",
    "            images['Apple__rust'],\n",
    "            images['Cassava__mosaic_disease'],\n",
    "            images['Rice__hispa'],\n",
    "            images['Soybean__caterpillar'],\n",
    "            images['Soybean__diabrotica_speciosa'],\n",
    "            images['Coffee__red_spider_mite'],\n",
    "            images['Tomato__spider_mites_(two_spotted_spider_mite)']\n",
    "        ],\n",
    "        4: [\n",
    "            images['Cassava__brown_streak_disease'],\n",
    "            images['Cassava__green_mottle'],\n",
    "            images['Gauva__diseased'],\n",
    "            images['Grape__black_measles'],\n",
    "            images['Rice__leaf_blast'],\n",
    "            images['Rice__neck_blast'],\n",
    "            images['Soybean__southern_blight'],\n",
    "            images['Sugarcane__red_rot'],\n",
    "            images['Sugarcane__red_stripe'],\n",
    "            images['Sugarcane__rust']\n",
    "        ],\n",
    "        5: [\n",
    "            images['Apple__healthy'],\n",
    "            images['Cassava__healthy'],\n",
    "            images['Cherry__healthy'],\n",
    "            images['Chili__healthy'],\n",
    "            images['Coffee__healthy'],\n",
    "            images['Corn__healthy'],\n",
    "            images['Cucumber__healthy'],\n",
    "            images['Gauva__healthy'],\n",
    "            images['Grape__healthy'],\n",
    "            images['Jamun__healthy'],\n",
    "            images['Lemon__healthy'],\n",
    "            images['Mango__healthy'],\n",
    "            images['Peach__healthy'],\n",
    "            images['Pepper_bell__healthy'],\n",
    "            images['Pomegranate__healthy'],\n",
    "            images['Potato__healthy'],\n",
    "            images['Rice__healthy'],\n",
    "            images['Soybean__healthy'],\n",
    "            images['Strawberry__healthy'],\n",
    "            images['Sugarcane__healthy'],\n",
    "            images['Tea__healthy'],\n",
    "            images['Tomato__healthy'],\n",
    "            images['Wheat__healthy']\n",
    "        ]\n",
    "    }\n",
    "\n",
    "    for disease, array_list in GENERALIZED_CLASSES.items():\n",
    "        try:\n",
    "            combined = combine_arrays(*array_list)\n",
    "            generalized_datasets[disease] = combined\n",
    "            print(f\"{disease}: {combined.shape}\")\n",
    "        except Exception as e:\n",
    "            print(f\"Error combining {disease}: {e}\")\n",
    "\n",
    "    del images\n",
    "    del GENERALIZED_CLASSES\n",
    "\n",
    "    (X_train, y_train), (X_val, y_val), (X_test, y_test), class_names = restructure_class_datasets(generalized_datasets)\n",
    "\n",
    "    del generalized_datasets\n",
    "\n",
    "    x_shuffle = np.random.permutation(len(X_train))\n",
    "    X_train = X_train[x_shuffle]\n",
    "    y_train = y_train[x_shuffle]\n",
    "\n",
    "    return X_train, y_train, X_val, y_val, X_test, y_test"
   ],
   "id": "9b4b1a379d276de2",
   "outputs": [],
   "execution_count": 7
  },
  {
   "metadata": {
    "ExecuteTime": {
     "end_time": "2025-06-14T19:40:45.730955Z",
     "start_time": "2025-06-14T19:40:45.726959Z"
    }
   },
   "cell_type": "code",
   "source": [
    "def train_model(model, X_train, y_train, X_val, y_val, batch_size=128, epochs=100, callbacks=None, shuffle=True, class_weights=None):\n",
    "\n",
    "    if callbacks is None:\n",
    "        callbacks = []\n",
    "    history = model.fit(\n",
    "        x=X_train,\n",
    "        y=y_train,\n",
    "        epochs=epochs,\n",
    "        batch_size=batch_size,\n",
    "        validation_data=(X_val, y_val),\n",
    "        callbacks=[callbacks],\n",
    "        class_weight=class_weights,\n",
    "        shuffle=shuffle,\n",
    "        verbose=2\n",
    "    )\n",
    "\n",
    "    return history"
   ],
   "id": "70be62238c896e7",
   "outputs": [],
   "execution_count": 8
  },
  {
   "metadata": {
    "ExecuteTime": {
     "end_time": "2025-06-14T19:40:45.746012Z",
     "start_time": "2025-06-14T19:40:45.743470Z"
    }
   },
   "cell_type": "code",
   "source": [
    "def plot_history(history):\n",
    "    # Plot the loss curves\n",
    "    plt.plot(history.history['loss'], label='Train Loss')\n",
    "    plt.plot(history.history['val_loss'], label='Validation Loss')\n",
    "    plt.legend()\n",
    "    plt.show()\n",
    "\n",
    "    # Plot the accuracy curves\n",
    "    plt.plot(history.history['accuracy'], label='Train Accuracy')\n",
    "    plt.plot(history.history['val_accuracy'], label='Validation Accuracy')\n",
    "    plt.legend()\n",
    "    plt.show()\n"
   ],
   "id": "8d4e0873e3a28dfc",
   "outputs": [],
   "execution_count": 9
  },
  {
   "metadata": {
    "ExecuteTime": {
     "end_time": "2025-06-14T19:40:45.754968Z",
     "start_time": "2025-06-14T19:40:45.751866Z"
    }
   },
   "cell_type": "code",
   "source": [
    "def plot_confussion_matrix(model, X_test, y_test):\n",
    "    test_loss, test_accuracy = model.evaluate(X_test, y_test)\n",
    "    print(f\"Test Loss: {test_loss}\")\n",
    "    print(f\"Test Accuracy: {test_accuracy}\")\n",
    "    y_pred_proba = model.predict(X_test)\n",
    "    y_pred = np.argmax(y_pred_proba, axis=1)\n",
    "    cm = confusion_matrix(y_test, y_pred)\n",
    "    sns.heatmap(cm, annot=True, fmt='d')\n",
    "    plt.show()\n",
    "    print(\"Confusion Matrix\")\n",
    "    print(cm)"
   ],
   "id": "e2fe952978d5934",
   "outputs": [],
   "execution_count": 10
  },
  {
   "metadata": {
    "ExecuteTime": {
     "end_time": "2025-06-14T19:40:45.766836Z",
     "start_time": "2025-06-14T19:40:45.764206Z"
    }
   },
   "cell_type": "code",
   "source": [
    "INPUT_SHAPE = (224, 224, 3)\n",
    "OUTPUT_SIZE = 6\n",
    "BATCH_SIZE = 128\n",
    "EPOCHS = 100\n",
    "MAX_IMAGES=100"
   ],
   "id": "5be2eeab9632a8ea",
   "outputs": [],
   "execution_count": 11
  },
  {
   "metadata": {
    "ExecuteTime": {
     "end_time": "2025-06-14T19:40:45.930850Z",
     "start_time": "2025-06-14T19:40:45.805338Z"
    }
   },
   "cell_type": "code",
   "source": [
    "model = tf.keras.models.Sequential([\n",
    "    tf.keras.layers.Conv2D(64, (3, 3), padding='same', activation='relu', input_shape=INPUT_SHAPE),\n",
    "    tf.keras.layers.BatchNormalization(),\n",
    "    tf.keras.layers.Conv2D(64, (3, 3), padding='same', activation='relu'),\n",
    "    tf.keras.layers.BatchNormalization(),\n",
    "    tf.keras.layers.MaxPooling2D((2, 2)),\n",
    "\n",
    "    # Block 2\n",
    "    tf.keras.layers.Conv2D(128, (3, 3), padding='same', activation='relu'),\n",
    "    tf.keras.layers.BatchNormalization(),\n",
    "    tf.keras.layers.Conv2D(128, (3, 3), padding='same', activation='relu'),\n",
    "    tf.keras.layers.BatchNormalization(),\n",
    "    tf.keras.layers.MaxPooling2D((2, 2)),\n",
    "\n",
    "    # Global average pooling instead of Flatten()\n",
    "    tf.keras.layers.GlobalAveragePooling2D(),\n",
    "\n",
    "    # Dense layers\n",
    "    tf.keras.layers.Dense(512, activation='relu'),\n",
    "    # tf.keras.layers.Dropout(0.5),\n",
    "    tf.keras.layers.Dense(128, activation='relu'),\n",
    "    tf.keras.layers.Dropout(0.3),\n",
    "    tf.keras.layers.Dense(OUTPUT_SIZE, activation='softmax')\n",
    "])\n",
    "\n",
    "model.compile(\n",
    "    optimizer=tf.keras.optimizers.Adam(learning_rate=1e-3),\n",
    "    loss='sparse_categorical_crossentropy',\n",
    "    metrics=['accuracy']\n",
    ")\n",
    "\n",
    "model.summary()"
   ],
   "id": "c60af1f9fec026bd",
   "outputs": [
    {
     "name": "stderr",
     "output_type": "stream",
     "text": [
      "D:\\Projects\\PythonProject\\AiGeneratedIMG\\.venv\\Lib\\site-packages\\keras\\src\\layers\\convolutional\\base_conv.py:107: UserWarning: Do not pass an `input_shape`/`input_dim` argument to a layer. When using Sequential models, prefer using an `Input(shape)` object as the first layer in the model instead.\n",
      "  super().__init__(activity_regularizer=activity_regularizer, **kwargs)\n"
     ]
    },
    {
     "data": {
      "text/plain": [
       "\u001B[1mModel: \"sequential\"\u001B[0m\n"
      ],
      "text/html": [
       "<pre style=\"white-space:pre;overflow-x:auto;line-height:normal;font-family:Menlo,'DejaVu Sans Mono',consolas,'Courier New',monospace\"><span style=\"font-weight: bold\">Model: \"sequential\"</span>\n",
       "</pre>\n"
      ]
     },
     "metadata": {},
     "output_type": "display_data"
    },
    {
     "data": {
      "text/plain": [
       "┏━━━━━━━━━━━━━━━━━━━━━━━━━━━━━━━━━┳━━━━━━━━━━━━━━━━━━━━━━━━┳━━━━━━━━━━━━━━━┓\n",
       "┃\u001B[1m \u001B[0m\u001B[1mLayer (type)                   \u001B[0m\u001B[1m \u001B[0m┃\u001B[1m \u001B[0m\u001B[1mOutput Shape          \u001B[0m\u001B[1m \u001B[0m┃\u001B[1m \u001B[0m\u001B[1m      Param #\u001B[0m\u001B[1m \u001B[0m┃\n",
       "┡━━━━━━━━━━━━━━━━━━━━━━━━━━━━━━━━━╇━━━━━━━━━━━━━━━━━━━━━━━━╇━━━━━━━━━━━━━━━┩\n",
       "│ conv2d (\u001B[38;5;33mConv2D\u001B[0m)                 │ (\u001B[38;5;45mNone\u001B[0m, \u001B[38;5;34m224\u001B[0m, \u001B[38;5;34m224\u001B[0m, \u001B[38;5;34m64\u001B[0m)   │         \u001B[38;5;34m1,792\u001B[0m │\n",
       "├─────────────────────────────────┼────────────────────────┼───────────────┤\n",
       "│ batch_normalization             │ (\u001B[38;5;45mNone\u001B[0m, \u001B[38;5;34m224\u001B[0m, \u001B[38;5;34m224\u001B[0m, \u001B[38;5;34m64\u001B[0m)   │           \u001B[38;5;34m256\u001B[0m │\n",
       "│ (\u001B[38;5;33mBatchNormalization\u001B[0m)            │                        │               │\n",
       "├─────────────────────────────────┼────────────────────────┼───────────────┤\n",
       "│ conv2d_1 (\u001B[38;5;33mConv2D\u001B[0m)               │ (\u001B[38;5;45mNone\u001B[0m, \u001B[38;5;34m224\u001B[0m, \u001B[38;5;34m224\u001B[0m, \u001B[38;5;34m64\u001B[0m)   │        \u001B[38;5;34m36,928\u001B[0m │\n",
       "├─────────────────────────────────┼────────────────────────┼───────────────┤\n",
       "│ batch_normalization_1           │ (\u001B[38;5;45mNone\u001B[0m, \u001B[38;5;34m224\u001B[0m, \u001B[38;5;34m224\u001B[0m, \u001B[38;5;34m64\u001B[0m)   │           \u001B[38;5;34m256\u001B[0m │\n",
       "│ (\u001B[38;5;33mBatchNormalization\u001B[0m)            │                        │               │\n",
       "├─────────────────────────────────┼────────────────────────┼───────────────┤\n",
       "│ max_pooling2d (\u001B[38;5;33mMaxPooling2D\u001B[0m)    │ (\u001B[38;5;45mNone\u001B[0m, \u001B[38;5;34m112\u001B[0m, \u001B[38;5;34m112\u001B[0m, \u001B[38;5;34m64\u001B[0m)   │             \u001B[38;5;34m0\u001B[0m │\n",
       "├─────────────────────────────────┼────────────────────────┼───────────────┤\n",
       "│ conv2d_2 (\u001B[38;5;33mConv2D\u001B[0m)               │ (\u001B[38;5;45mNone\u001B[0m, \u001B[38;5;34m112\u001B[0m, \u001B[38;5;34m112\u001B[0m, \u001B[38;5;34m128\u001B[0m)  │        \u001B[38;5;34m73,856\u001B[0m │\n",
       "├─────────────────────────────────┼────────────────────────┼───────────────┤\n",
       "│ batch_normalization_2           │ (\u001B[38;5;45mNone\u001B[0m, \u001B[38;5;34m112\u001B[0m, \u001B[38;5;34m112\u001B[0m, \u001B[38;5;34m128\u001B[0m)  │           \u001B[38;5;34m512\u001B[0m │\n",
       "│ (\u001B[38;5;33mBatchNormalization\u001B[0m)            │                        │               │\n",
       "├─────────────────────────────────┼────────────────────────┼───────────────┤\n",
       "│ conv2d_3 (\u001B[38;5;33mConv2D\u001B[0m)               │ (\u001B[38;5;45mNone\u001B[0m, \u001B[38;5;34m112\u001B[0m, \u001B[38;5;34m112\u001B[0m, \u001B[38;5;34m128\u001B[0m)  │       \u001B[38;5;34m147,584\u001B[0m │\n",
       "├─────────────────────────────────┼────────────────────────┼───────────────┤\n",
       "│ batch_normalization_3           │ (\u001B[38;5;45mNone\u001B[0m, \u001B[38;5;34m112\u001B[0m, \u001B[38;5;34m112\u001B[0m, \u001B[38;5;34m128\u001B[0m)  │           \u001B[38;5;34m512\u001B[0m │\n",
       "│ (\u001B[38;5;33mBatchNormalization\u001B[0m)            │                        │               │\n",
       "├─────────────────────────────────┼────────────────────────┼───────────────┤\n",
       "│ max_pooling2d_1 (\u001B[38;5;33mMaxPooling2D\u001B[0m)  │ (\u001B[38;5;45mNone\u001B[0m, \u001B[38;5;34m56\u001B[0m, \u001B[38;5;34m56\u001B[0m, \u001B[38;5;34m128\u001B[0m)    │             \u001B[38;5;34m0\u001B[0m │\n",
       "├─────────────────────────────────┼────────────────────────┼───────────────┤\n",
       "│ global_average_pooling2d        │ (\u001B[38;5;45mNone\u001B[0m, \u001B[38;5;34m128\u001B[0m)            │             \u001B[38;5;34m0\u001B[0m │\n",
       "│ (\u001B[38;5;33mGlobalAveragePooling2D\u001B[0m)        │                        │               │\n",
       "├─────────────────────────────────┼────────────────────────┼───────────────┤\n",
       "│ dense (\u001B[38;5;33mDense\u001B[0m)                   │ (\u001B[38;5;45mNone\u001B[0m, \u001B[38;5;34m512\u001B[0m)            │        \u001B[38;5;34m66,048\u001B[0m │\n",
       "├─────────────────────────────────┼────────────────────────┼───────────────┤\n",
       "│ dense_1 (\u001B[38;5;33mDense\u001B[0m)                 │ (\u001B[38;5;45mNone\u001B[0m, \u001B[38;5;34m128\u001B[0m)            │        \u001B[38;5;34m65,664\u001B[0m │\n",
       "├─────────────────────────────────┼────────────────────────┼───────────────┤\n",
       "│ dropout (\u001B[38;5;33mDropout\u001B[0m)               │ (\u001B[38;5;45mNone\u001B[0m, \u001B[38;5;34m128\u001B[0m)            │             \u001B[38;5;34m0\u001B[0m │\n",
       "├─────────────────────────────────┼────────────────────────┼───────────────┤\n",
       "│ dense_2 (\u001B[38;5;33mDense\u001B[0m)                 │ (\u001B[38;5;45mNone\u001B[0m, \u001B[38;5;34m6\u001B[0m)              │           \u001B[38;5;34m774\u001B[0m │\n",
       "└─────────────────────────────────┴────────────────────────┴───────────────┘\n"
      ],
      "text/html": [
       "<pre style=\"white-space:pre;overflow-x:auto;line-height:normal;font-family:Menlo,'DejaVu Sans Mono',consolas,'Courier New',monospace\">┏━━━━━━━━━━━━━━━━━━━━━━━━━━━━━━━━━┳━━━━━━━━━━━━━━━━━━━━━━━━┳━━━━━━━━━━━━━━━┓\n",
       "┃<span style=\"font-weight: bold\"> Layer (type)                    </span>┃<span style=\"font-weight: bold\"> Output Shape           </span>┃<span style=\"font-weight: bold\">       Param # </span>┃\n",
       "┡━━━━━━━━━━━━━━━━━━━━━━━━━━━━━━━━━╇━━━━━━━━━━━━━━━━━━━━━━━━╇━━━━━━━━━━━━━━━┩\n",
       "│ conv2d (<span style=\"color: #0087ff; text-decoration-color: #0087ff\">Conv2D</span>)                 │ (<span style=\"color: #00d7ff; text-decoration-color: #00d7ff\">None</span>, <span style=\"color: #00af00; text-decoration-color: #00af00\">224</span>, <span style=\"color: #00af00; text-decoration-color: #00af00\">224</span>, <span style=\"color: #00af00; text-decoration-color: #00af00\">64</span>)   │         <span style=\"color: #00af00; text-decoration-color: #00af00\">1,792</span> │\n",
       "├─────────────────────────────────┼────────────────────────┼───────────────┤\n",
       "│ batch_normalization             │ (<span style=\"color: #00d7ff; text-decoration-color: #00d7ff\">None</span>, <span style=\"color: #00af00; text-decoration-color: #00af00\">224</span>, <span style=\"color: #00af00; text-decoration-color: #00af00\">224</span>, <span style=\"color: #00af00; text-decoration-color: #00af00\">64</span>)   │           <span style=\"color: #00af00; text-decoration-color: #00af00\">256</span> │\n",
       "│ (<span style=\"color: #0087ff; text-decoration-color: #0087ff\">BatchNormalization</span>)            │                        │               │\n",
       "├─────────────────────────────────┼────────────────────────┼───────────────┤\n",
       "│ conv2d_1 (<span style=\"color: #0087ff; text-decoration-color: #0087ff\">Conv2D</span>)               │ (<span style=\"color: #00d7ff; text-decoration-color: #00d7ff\">None</span>, <span style=\"color: #00af00; text-decoration-color: #00af00\">224</span>, <span style=\"color: #00af00; text-decoration-color: #00af00\">224</span>, <span style=\"color: #00af00; text-decoration-color: #00af00\">64</span>)   │        <span style=\"color: #00af00; text-decoration-color: #00af00\">36,928</span> │\n",
       "├─────────────────────────────────┼────────────────────────┼───────────────┤\n",
       "│ batch_normalization_1           │ (<span style=\"color: #00d7ff; text-decoration-color: #00d7ff\">None</span>, <span style=\"color: #00af00; text-decoration-color: #00af00\">224</span>, <span style=\"color: #00af00; text-decoration-color: #00af00\">224</span>, <span style=\"color: #00af00; text-decoration-color: #00af00\">64</span>)   │           <span style=\"color: #00af00; text-decoration-color: #00af00\">256</span> │\n",
       "│ (<span style=\"color: #0087ff; text-decoration-color: #0087ff\">BatchNormalization</span>)            │                        │               │\n",
       "├─────────────────────────────────┼────────────────────────┼───────────────┤\n",
       "│ max_pooling2d (<span style=\"color: #0087ff; text-decoration-color: #0087ff\">MaxPooling2D</span>)    │ (<span style=\"color: #00d7ff; text-decoration-color: #00d7ff\">None</span>, <span style=\"color: #00af00; text-decoration-color: #00af00\">112</span>, <span style=\"color: #00af00; text-decoration-color: #00af00\">112</span>, <span style=\"color: #00af00; text-decoration-color: #00af00\">64</span>)   │             <span style=\"color: #00af00; text-decoration-color: #00af00\">0</span> │\n",
       "├─────────────────────────────────┼────────────────────────┼───────────────┤\n",
       "│ conv2d_2 (<span style=\"color: #0087ff; text-decoration-color: #0087ff\">Conv2D</span>)               │ (<span style=\"color: #00d7ff; text-decoration-color: #00d7ff\">None</span>, <span style=\"color: #00af00; text-decoration-color: #00af00\">112</span>, <span style=\"color: #00af00; text-decoration-color: #00af00\">112</span>, <span style=\"color: #00af00; text-decoration-color: #00af00\">128</span>)  │        <span style=\"color: #00af00; text-decoration-color: #00af00\">73,856</span> │\n",
       "├─────────────────────────────────┼────────────────────────┼───────────────┤\n",
       "│ batch_normalization_2           │ (<span style=\"color: #00d7ff; text-decoration-color: #00d7ff\">None</span>, <span style=\"color: #00af00; text-decoration-color: #00af00\">112</span>, <span style=\"color: #00af00; text-decoration-color: #00af00\">112</span>, <span style=\"color: #00af00; text-decoration-color: #00af00\">128</span>)  │           <span style=\"color: #00af00; text-decoration-color: #00af00\">512</span> │\n",
       "│ (<span style=\"color: #0087ff; text-decoration-color: #0087ff\">BatchNormalization</span>)            │                        │               │\n",
       "├─────────────────────────────────┼────────────────────────┼───────────────┤\n",
       "│ conv2d_3 (<span style=\"color: #0087ff; text-decoration-color: #0087ff\">Conv2D</span>)               │ (<span style=\"color: #00d7ff; text-decoration-color: #00d7ff\">None</span>, <span style=\"color: #00af00; text-decoration-color: #00af00\">112</span>, <span style=\"color: #00af00; text-decoration-color: #00af00\">112</span>, <span style=\"color: #00af00; text-decoration-color: #00af00\">128</span>)  │       <span style=\"color: #00af00; text-decoration-color: #00af00\">147,584</span> │\n",
       "├─────────────────────────────────┼────────────────────────┼───────────────┤\n",
       "│ batch_normalization_3           │ (<span style=\"color: #00d7ff; text-decoration-color: #00d7ff\">None</span>, <span style=\"color: #00af00; text-decoration-color: #00af00\">112</span>, <span style=\"color: #00af00; text-decoration-color: #00af00\">112</span>, <span style=\"color: #00af00; text-decoration-color: #00af00\">128</span>)  │           <span style=\"color: #00af00; text-decoration-color: #00af00\">512</span> │\n",
       "│ (<span style=\"color: #0087ff; text-decoration-color: #0087ff\">BatchNormalization</span>)            │                        │               │\n",
       "├─────────────────────────────────┼────────────────────────┼───────────────┤\n",
       "│ max_pooling2d_1 (<span style=\"color: #0087ff; text-decoration-color: #0087ff\">MaxPooling2D</span>)  │ (<span style=\"color: #00d7ff; text-decoration-color: #00d7ff\">None</span>, <span style=\"color: #00af00; text-decoration-color: #00af00\">56</span>, <span style=\"color: #00af00; text-decoration-color: #00af00\">56</span>, <span style=\"color: #00af00; text-decoration-color: #00af00\">128</span>)    │             <span style=\"color: #00af00; text-decoration-color: #00af00\">0</span> │\n",
       "├─────────────────────────────────┼────────────────────────┼───────────────┤\n",
       "│ global_average_pooling2d        │ (<span style=\"color: #00d7ff; text-decoration-color: #00d7ff\">None</span>, <span style=\"color: #00af00; text-decoration-color: #00af00\">128</span>)            │             <span style=\"color: #00af00; text-decoration-color: #00af00\">0</span> │\n",
       "│ (<span style=\"color: #0087ff; text-decoration-color: #0087ff\">GlobalAveragePooling2D</span>)        │                        │               │\n",
       "├─────────────────────────────────┼────────────────────────┼───────────────┤\n",
       "│ dense (<span style=\"color: #0087ff; text-decoration-color: #0087ff\">Dense</span>)                   │ (<span style=\"color: #00d7ff; text-decoration-color: #00d7ff\">None</span>, <span style=\"color: #00af00; text-decoration-color: #00af00\">512</span>)            │        <span style=\"color: #00af00; text-decoration-color: #00af00\">66,048</span> │\n",
       "├─────────────────────────────────┼────────────────────────┼───────────────┤\n",
       "│ dense_1 (<span style=\"color: #0087ff; text-decoration-color: #0087ff\">Dense</span>)                 │ (<span style=\"color: #00d7ff; text-decoration-color: #00d7ff\">None</span>, <span style=\"color: #00af00; text-decoration-color: #00af00\">128</span>)            │        <span style=\"color: #00af00; text-decoration-color: #00af00\">65,664</span> │\n",
       "├─────────────────────────────────┼────────────────────────┼───────────────┤\n",
       "│ dropout (<span style=\"color: #0087ff; text-decoration-color: #0087ff\">Dropout</span>)               │ (<span style=\"color: #00d7ff; text-decoration-color: #00d7ff\">None</span>, <span style=\"color: #00af00; text-decoration-color: #00af00\">128</span>)            │             <span style=\"color: #00af00; text-decoration-color: #00af00\">0</span> │\n",
       "├─────────────────────────────────┼────────────────────────┼───────────────┤\n",
       "│ dense_2 (<span style=\"color: #0087ff; text-decoration-color: #0087ff\">Dense</span>)                 │ (<span style=\"color: #00d7ff; text-decoration-color: #00d7ff\">None</span>, <span style=\"color: #00af00; text-decoration-color: #00af00\">6</span>)              │           <span style=\"color: #00af00; text-decoration-color: #00af00\">774</span> │\n",
       "└─────────────────────────────────┴────────────────────────┴───────────────┘\n",
       "</pre>\n"
      ]
     },
     "metadata": {},
     "output_type": "display_data"
    },
    {
     "data": {
      "text/plain": [
       "\u001B[1m Total params: \u001B[0m\u001B[38;5;34m394,182\u001B[0m (1.50 MB)\n"
      ],
      "text/html": [
       "<pre style=\"white-space:pre;overflow-x:auto;line-height:normal;font-family:Menlo,'DejaVu Sans Mono',consolas,'Courier New',monospace\"><span style=\"font-weight: bold\"> Total params: </span><span style=\"color: #00af00; text-decoration-color: #00af00\">394,182</span> (1.50 MB)\n",
       "</pre>\n"
      ]
     },
     "metadata": {},
     "output_type": "display_data"
    },
    {
     "data": {
      "text/plain": [
       "\u001B[1m Trainable params: \u001B[0m\u001B[38;5;34m393,414\u001B[0m (1.50 MB)\n"
      ],
      "text/html": [
       "<pre style=\"white-space:pre;overflow-x:auto;line-height:normal;font-family:Menlo,'DejaVu Sans Mono',consolas,'Courier New',monospace\"><span style=\"font-weight: bold\"> Trainable params: </span><span style=\"color: #00af00; text-decoration-color: #00af00\">393,414</span> (1.50 MB)\n",
       "</pre>\n"
      ]
     },
     "metadata": {},
     "output_type": "display_data"
    },
    {
     "data": {
      "text/plain": [
       "\u001B[1m Non-trainable params: \u001B[0m\u001B[38;5;34m768\u001B[0m (3.00 KB)\n"
      ],
      "text/html": [
       "<pre style=\"white-space:pre;overflow-x:auto;line-height:normal;font-family:Menlo,'DejaVu Sans Mono',consolas,'Courier New',monospace\"><span style=\"font-weight: bold\"> Non-trainable params: </span><span style=\"color: #00af00; text-decoration-color: #00af00\">768</span> (3.00 KB)\n",
       "</pre>\n"
      ]
     },
     "metadata": {},
     "output_type": "display_data"
    }
   ],
   "execution_count": 12
  },
  {
   "metadata": {
    "ExecuteTime": {
     "end_time": "2025-06-14T19:44:50.479608Z",
     "start_time": "2025-06-14T19:40:45.964328Z"
    }
   },
   "cell_type": "code",
   "source": "X_train, y_train, X_val, y_val, X_test, y_test = preprocess_dataset(base_dir='merge', img_size=(INPUT_SHAPE[0], INPUT_SHAPE[1]), max_images=MAX_IMAGES)",
   "id": "1656a42fbbc014c",
   "outputs": [
    {
     "name": "stdout",
     "output_type": "stream",
     "text": [
      "<UNK> Processing images in folder: merge/Apple__black_rot\n",
      "621\n",
      "<UNK> Processing images in folder: merge/Apple__healthy\n",
      "1649\n",
      "<UNK> Processing images in folder: merge/Apple__rust\n",
      "357\n",
      "<UNK> Processing images in folder: merge/Apple__scab\n",
      "700\n",
      "<UNK> Processing images in folder: merge/Cassava__bacterial_blight\n",
      "486\n",
      "<UNK> Processing images in folder: merge/Cassava__brown_streak_disease\n",
      "558\n",
      "<UNK> Processing images in folder: merge/Cassava__green_mottle\n",
      "471\n",
      "<UNK> Processing images in folder: merge/Cassava__healthy\n",
      "677\n",
      "<UNK> Processing images in folder: merge/Cassava__mosaic_disease\n",
      "444\n",
      "<UNK> Processing images in folder: merge/Cherry__healthy\n",
      "906\n",
      "<UNK> Processing images in folder: merge/Cherry__powdery_mildew\n",
      "1052\n",
      "<UNK> Processing images in folder: merge/Chili__healthy\n",
      "100\n",
      "<UNK> Processing images in folder: merge/Chili__leaf curl\n",
      "100\n",
      "<UNK> Processing images in folder: merge/Chili__leaf spot\n",
      "100\n",
      "<UNK> Processing images in folder: merge/Chili__whitefly\n",
      "100\n",
      "<UNK> Processing images in folder: merge/Chili__yellowish\n",
      "100\n",
      "<UNK> Processing images in folder: merge/Coffee__cercospora_leaf_spot\n",
      "55\n",
      "<UNK> Processing images in folder: merge/Coffee__healthy\n",
      "439\n",
      "<UNK> Processing images in folder: merge/Coffee__red_spider_mite\n",
      "167\n",
      "<UNK> Processing images in folder: merge/Coffee__rust\n",
      "442\n",
      "<UNK> Processing images in folder: merge/Corn__common_rust\n",
      "1308\n",
      "<UNK> Processing images in folder: merge/Corn__gray_leaf_spot\n",
      "1094\n",
      "<UNK> Processing images in folder: merge/Corn__healthy\n",
      "1162\n",
      "<UNK> Processing images in folder: merge/Corn__northern_leaf_blight\n",
      "1223\n",
      "<UNK> Processing images in folder: merge/Cucumber__diseased\n",
      "350\n",
      "<UNK> Processing images in folder: merge/Cucumber__healthy\n",
      "341\n",
      "<UNK> Processing images in folder: merge/Gauva__diseased\n",
      "142\n",
      "<UNK> Processing images in folder: merge/Gauva__healthy\n",
      "277\n",
      "<UNK> Processing images in folder: merge/Grape__black_measles\n",
      "1383\n",
      "<UNK> Processing images in folder: merge/Grape__black_rot\n",
      "11390\n",
      "<UNK> Processing images in folder: merge/Grape__healthy\n",
      "470\n",
      "<UNK> Processing images in folder: merge/Grape__leaf_blight_(isariopsis_leaf_spot)\n",
      "889\n",
      "<UNK> Processing images in folder: merge/Jamun__diseased\n",
      "345\n",
      "<UNK> Processing images in folder: merge/Jamun__healthy\n",
      "279\n",
      "<UNK> Processing images in folder: merge/Lemon__diseased\n",
      "77\n",
      "<UNK> Processing images in folder: merge/Lemon__healthy\n",
      "159\n",
      "<UNK> Processing images in folder: merge/Mango__diseased\n",
      "265\n",
      "<UNK> Processing images in folder: merge/Mango__healthy\n",
      "170\n",
      "<UNK> Processing images in folder: merge/Peach__bacterial_spot\n",
      "2297\n",
      "<UNK> Processing images in folder: merge/Peach__healthy\n",
      "363\n",
      "<UNK> Processing images in folder: merge/Pepper_bell__bacterial_spot\n",
      "1067\n",
      "<UNK> Processing images in folder: merge/Pepper_bell__healthy\n",
      "1539\n",
      "<UNK> Processing images in folder: merge/Pomegranate__diseased\n",
      "272\n",
      "<UNK> Processing images in folder: merge/Pomegranate__healthy\n",
      "287\n",
      "<UNK> Processing images in folder: merge/Potato__early_blight\n",
      "1096\n",
      "<UNK> Processing images in folder: merge/Potato__healthy\n",
      "152\n",
      "<UNK> Processing images in folder: merge/Potato__late_blight\n",
      "1093\n",
      "<UNK> Processing images in folder: merge/Rice__brown_spot\n",
      "653\n",
      "<UNK> Processing images in folder: merge/Rice__healthy\n",
      "1488\n",
      "<UNK> Processing images in folder: merge/Rice__hispa\n",
      "565\n",
      "<UNK> Processing images in folder: merge/Rice__leaf_blast\n",
      "981\n",
      "<UNK> Processing images in folder: merge/Rice__neck_blast\n",
      "1000\n",
      "<UNK> Processing images in folder: merge/Soybean__bacterial_blight\n",
      "56\n",
      "<UNK> Processing images in folder: merge/Soybean__caterpillar\n",
      "3309\n",
      "<UNK> Processing images in folder: merge/Soybean__diabrotica_speciosa\n",
      "2205\n",
      "<UNK> Processing images in folder: merge/Soybean__downy_mildew\n",
      "51\n",
      "❌ Failed to load image: merge/Soybean__downy_mildew\\C+¦pia de mildio4cvg.JPG\n",
      "❌ Failed to load image: merge/Soybean__downy_mildew\\C+¦pia de mildio8cgv.JPG\n",
      "<UNK> Processing images in folder: merge/Soybean__healthy\n",
      "5998\n",
      "<UNK> Processing images in folder: merge/Soybean__mosaic_virus\n",
      "22\n",
      "<UNK> Processing images in folder: merge/Soybean__powdery_mildew\n",
      "77\n",
      "❌ Failed to load image: merge/Soybean__powdery_mildew\\O+¡dio.jpg\n",
      "<UNK> Processing images in folder: merge/Soybean__rust\n",
      "65\n",
      "<UNK> Processing images in folder: merge/Soybean__southern_blight\n",
      "62\n",
      "<UNK> Processing images in folder: merge/Strawberry__healthy\n",
      "456\n",
      "<UNK> Processing images in folder: merge/Strawberry___leaf_scorch\n",
      "1109\n",
      "<UNK> Processing images in folder: merge/Sugarcane__bacterial_blight\n",
      "100\n",
      "<UNK> Processing images in folder: merge/Sugarcane__healthy\n",
      "180\n",
      "<UNK> Processing images in folder: merge/Sugarcane__red_rot\n",
      "174\n",
      "<UNK> Processing images in folder: merge/Sugarcane__red_stripe\n",
      "53\n",
      "<UNK> Processing images in folder: merge/Sugarcane__rust\n",
      "93\n",
      "<UNK> Processing images in folder: merge/Tea__algal_leaf\n",
      "339\n",
      "<UNK> Processing images in folder: merge/Tea__anthracnose\n",
      "300\n",
      "<UNK> Processing images in folder: merge/Tea__bird_eye_spot\n",
      "300\n",
      "<UNK> Processing images in folder: merge/Tea__brown_blight\n",
      "339\n",
      "<UNK> Processing images in folder: merge/Tea__healthy\n",
      "222\n",
      "<UNK> Processing images in folder: merge/Tea__red_leaf_spot\n",
      "429\n",
      "<UNK> Processing images in folder: merge/Tomato__bacterial_spot\n",
      "2136\n",
      "<UNK> Processing images in folder: merge/Tomato__early_blight\n",
      "1009\n",
      "<UNK> Processing images in folder: merge/Tomato__healthy\n",
      "1598\n",
      "<UNK> Processing images in folder: merge/Tomato__late_blight\n",
      "1919\n",
      "<UNK> Processing images in folder: merge/Tomato__leaf_mold\n",
      "957\n",
      "<UNK> Processing images in folder: merge/Tomato__mosaic_virus\n",
      "382\n",
      "<UNK> Processing images in folder: merge/Tomato__septoria_leaf_spot\n",
      "1782\n",
      "<UNK> Processing images in folder: merge/Tomato__spider_mites_(two_spotted_spider_mite)\n",
      "1676\n",
      "<UNK> Processing images in folder: merge/Tomato__target_spot\n",
      "1404\n",
      "<UNK> Processing images in folder: merge/Tomato__yellow_leaf_curl_virus\n",
      "3214\n",
      "<UNK> Processing images in folder: merge/Wheat__brown_rust\n",
      "916\n",
      "<UNK> Processing images in folder: merge/Wheat__healthy\n",
      "1225\n",
      "<UNK> Processing images in folder: merge/Wheat__septoria\n",
      "97\n",
      "<UNK> Processing images in folder: merge/Wheat__yellow_rust\n",
      "1132\n",
      "0: (2452, 224, 224, 3)\n",
      "1: (1056, 224, 224, 3)\n",
      "2: (699, 224, 224, 3)\n",
      "3: (700, 224, 224, 3)\n",
      "4: (908, 224, 224, 3)\n",
      "5: (2300, 224, 224, 3)\n"
     ]
    }
   ],
   "execution_count": 13
  },
  {
   "metadata": {
    "jupyter": {
     "is_executing": true
    },
    "ExecuteTime": {
     "start_time": "2025-06-14T19:44:50.606328Z"
    }
   },
   "cell_type": "code",
   "source": [
    "early_stopping = tf.keras.callbacks.EarlyStopping(\n",
    "    monitor='val_accuracy',\n",
    "    patience=7,\n",
    "    restore_best_weights=True\n",
    ")\n",
    "\n",
    "weights = compute_class_weight(\n",
    "    class_weight='balanced',\n",
    "    classes=np.unique(y_train),\n",
    "    y=y_train\n",
    ")\n",
    "class_weights = dict(enumerate(weights))\n",
    "\n",
    "history = train_model(model, X_train, y_train, X_val, y_val, batch_size=BATCH_SIZE, epochs=EPOCHS, callbacks=[early_stopping])\n",
    "\n",
    "plot_history(history)"
   ],
   "id": "37c2b259059e7914",
   "outputs": [
    {
     "name": "stdout",
     "output_type": "stream",
     "text": [
      "Epoch 1/100\n"
     ]
    }
   ],
   "execution_count": null
  },
  {
   "metadata": {
    "ExecuteTime": {
     "end_time": "2025-06-14T19:40:05.004549Z",
     "start_time": "2025-06-14T16:48:46.672870Z"
    }
   },
   "cell_type": "code",
   "source": "plot_confussion_matrix(model, X_test, y_test)",
   "id": "7b69ea524125de64",
   "outputs": [
    {
     "name": "stdout",
     "output_type": "stream",
     "text": [
      "\u001B[1m143/143\u001B[0m \u001B[32m━━━━━━━━━━━━━━━━━━━━\u001B[0m\u001B[37m\u001B[0m \u001B[1m6s\u001B[0m 45ms/step - accuracy: 0.8734 - loss: 0.4309\n",
      "Test Loss: 0.45875003933906555\n",
      "Test Accuracy: 0.8669734597206116\n",
      "\u001B[1m143/143\u001B[0m \u001B[32m━━━━━━━━━━━━━━━━━━━━\u001B[0m\u001B[37m\u001B[0m \u001B[1m7s\u001B[0m 45ms/step\n"
     ]
    },
    {
     "data": {
      "text/plain": [
       "<Figure size 640x480 with 2 Axes>"
      ],
      "image/png": "[encoded data removed]"
     },
     "metadata": {},
     "output_type": "display_data"
    },
    {
     "name": "stdout",
     "output_type": "stream",
     "text": [
      "Confusion Matrix\n",
      "[[1443    8   10   28   10   51]\n",
      " [  75  389    7   16   12   55]\n",
      " [   3    2  281    1    0   16]\n",
      " [  28    6    2  370   17   33]\n",
      " [  20   13    5   54  272   56]\n",
      " [  22    9    6   26   16 1201]]\n"
     ]
    }
   ],
   "execution_count": 14
  },
  {
   "metadata": {
    "ExecuteTime": {
     "end_time": "2025-06-14T19:40:05.004549Z",
     "start_time": "2025-06-14T16:48:59.946158Z"
    }
   },
   "cell_type": "code",
   "source": "model.save(f\"{BATCH_SIZE}_custom_{MAX_IMAGES}_{INPUT_SHAPE[0]}.keras\")",
   "id": "7f7b8d61769a5bd2",
   "outputs": [],
   "execution_count": 15
  },
  {
   "metadata": {
    "ExecuteTime": {
     "end_time": "2025-06-14T19:40:05.004549Z",
     "start_time": "2025-06-14T16:49:00.062433Z"
    }
   },
   "cell_type": "code",
   "source": [
    "INPUT_SHAPE = (224, 224, 3)\n",
    "OUTPUT_SIZE = 6\n",
    "BATCH_SIZE = 128\n",
    "EPOCHS = 100\n",
    "MAX_IMAGES=100"
   ],
   "id": "946950316be28b4c",
   "outputs": [],
   "execution_count": 16
  },
  {
   "metadata": {
    "ExecuteTime": {
     "end_time": "2025-06-14T19:40:05.004549Z",
     "start_time": "2025-06-14T16:49:00.116949Z"
    }
   },
   "cell_type": "code",
   "source": [
    "base_model = MobileNetV2(\n",
    "    input_shape=INPUT_SHAPE,\n",
    "    include_top=False,\n",
    "    weights='imagenet'\n",
    ")\n",
    "\n",
    "# Freeze the base model\n",
    "base_model.trainable = False\n",
    "\n",
    "inputs = tf.keras.Input(shape=INPUT_SHAPE)\n",
    "x = base_model(inputs, training=False)\n",
    "\n",
    "# Global pooling and dense layers\n",
    "x = layers.GlobalAveragePooling2D()(x)\n",
    "x = layers.Dense(512, activation='relu')(x)\n",
    "x = layers.Dropout(0.3)(x)\n",
    "x = layers.Dense(128, activation='relu')(x)\n",
    "outputs = layers.Dense(OUTPUT_SIZE, activation='softmax')(x)\n",
    "\n",
    "# Final model\n",
    "model = models.Model(inputs, outputs)\n",
    "\n",
    "# Compile the model\n",
    "model.compile(\n",
    "    optimizer=tf.keras.optimizers.Adam(learning_rate=1e-3),\n",
    "    loss='sparse_categorical_crossentropy',\n",
    "    metrics=['accuracy']\n",
    ")\n",
    "\n",
    "# Summary of the model\n",
    "model.summary()"
   ],
   "id": "715a9debf8701ff8",
   "outputs": [
    {
     "data": {
      "text/plain": [
       "\u001B[1mModel: \"functional_1\"\u001B[0m\n"
      ],
      "text/html": [
       "<pre style=\"white-space:pre;overflow-x:auto;line-height:normal;font-family:Menlo,'DejaVu Sans Mono',consolas,'Courier New',monospace\"><span style=\"font-weight: bold\">Model: \"functional_1\"</span>\n",
       "</pre>\n"
      ]
     },
     "metadata": {},
     "output_type": "display_data"
    },
    {
     "data": {
      "text/plain": [
       "┏━━━━━━━━━━━━━━━━━━━━━━━━━━━━━━━━━┳━━━━━━━━━━━━━━━━━━━━━━━━┳━━━━━━━━━━━━━━━┓\n",
       "┃\u001B[1m \u001B[0m\u001B[1mLayer (type)                   \u001B[0m\u001B[1m \u001B[0m┃\u001B[1m \u001B[0m\u001B[1mOutput Shape          \u001B[0m\u001B[1m \u001B[0m┃\u001B[1m \u001B[0m\u001B[1m      Param #\u001B[0m\u001B[1m \u001B[0m┃\n",
       "┡━━━━━━━━━━━━━━━━━━━━━━━━━━━━━━━━━╇━━━━━━━━━━━━━━━━━━━━━━━━╇━━━━━━━━━━━━━━━┩\n",
       "│ input_layer_2 (\u001B[38;5;33mInputLayer\u001B[0m)      │ (\u001B[38;5;45mNone\u001B[0m, \u001B[38;5;34m224\u001B[0m, \u001B[38;5;34m224\u001B[0m, \u001B[38;5;34m3\u001B[0m)    │             \u001B[38;5;34m0\u001B[0m │\n",
       "├─────────────────────────────────┼────────────────────────┼───────────────┤\n",
       "│ mobilenetv2_1.00_224            │ (\u001B[38;5;45mNone\u001B[0m, \u001B[38;5;34m7\u001B[0m, \u001B[38;5;34m7\u001B[0m, \u001B[38;5;34m1280\u001B[0m)     │     \u001B[38;5;34m2,257,984\u001B[0m │\n",
       "│ (\u001B[38;5;33mFunctional\u001B[0m)                    │                        │               │\n",
       "├─────────────────────────────────┼────────────────────────┼───────────────┤\n",
       "│ global_average_pooling2d_1      │ (\u001B[38;5;45mNone\u001B[0m, \u001B[38;5;34m1280\u001B[0m)           │             \u001B[38;5;34m0\u001B[0m │\n",
       "│ (\u001B[38;5;33mGlobalAveragePooling2D\u001B[0m)        │                        │               │\n",
       "├─────────────────────────────────┼────────────────────────┼───────────────┤\n",
       "│ dense_3 (\u001B[38;5;33mDense\u001B[0m)                 │ (\u001B[38;5;45mNone\u001B[0m, \u001B[38;5;34m512\u001B[0m)            │       \u001B[38;5;34m655,872\u001B[0m │\n",
       "├─────────────────────────────────┼────────────────────────┼───────────────┤\n",
       "│ dropout_1 (\u001B[38;5;33mDropout\u001B[0m)             │ (\u001B[38;5;45mNone\u001B[0m, \u001B[38;5;34m512\u001B[0m)            │             \u001B[38;5;34m0\u001B[0m │\n",
       "├─────────────────────────────────┼────────────────────────┼───────────────┤\n",
       "│ dense_4 (\u001B[38;5;33mDense\u001B[0m)                 │ (\u001B[38;5;45mNone\u001B[0m, \u001B[38;5;34m128\u001B[0m)            │        \u001B[38;5;34m65,664\u001B[0m │\n",
       "├─────────────────────────────────┼────────────────────────┼───────────────┤\n",
       "│ dense_5 (\u001B[38;5;33mDense\u001B[0m)                 │ (\u001B[38;5;45mNone\u001B[0m, \u001B[38;5;34m6\u001B[0m)              │           \u001B[38;5;34m774\u001B[0m │\n",
       "└─────────────────────────────────┴────────────────────────┴───────────────┘\n"
      ],
      "text/html": [
       "<pre style=\"white-space:pre;overflow-x:auto;line-height:normal;font-family:Menlo,'DejaVu Sans Mono',consolas,'Courier New',monospace\">┏━━━━━━━━━━━━━━━━━━━━━━━━━━━━━━━━━┳━━━━━━━━━━━━━━━━━━━━━━━━┳━━━━━━━━━━━━━━━┓\n",
       "┃<span style=\"font-weight: bold\"> Layer (type)                    </span>┃<span style=\"font-weight: bold\"> Output Shape           </span>┃<span style=\"font-weight: bold\">       Param # </span>┃\n",
       "┡━━━━━━━━━━━━━━━━━━━━━━━━━━━━━━━━━╇━━━━━━━━━━━━━━━━━━━━━━━━╇━━━━━━━━━━━━━━━┩\n",
       "│ input_layer_2 (<span style=\"color: #0087ff; text-decoration-color: #0087ff\">InputLayer</span>)      │ (<span style=\"color: #00d7ff; text-decoration-color: #00d7ff\">None</span>, <span style=\"color: #00af00; text-decoration-color: #00af00\">224</span>, <span style=\"color: #00af00; text-decoration-color: #00af00\">224</span>, <span style=\"color: #00af00; text-decoration-color: #00af00\">3</span>)    │             <span style=\"color: #00af00; text-decoration-color: #00af00\">0</span> │\n",
       "├─────────────────────────────────┼────────────────────────┼───────────────┤\n",
       "│ mobilenetv2_1.00_224            │ (<span style=\"color: #00d7ff; text-decoration-color: #00d7ff\">None</span>, <span style=\"color: #00af00; text-decoration-color: #00af00\">7</span>, <span style=\"color: #00af00; text-decoration-color: #00af00\">7</span>, <span style=\"color: #00af00; text-decoration-color: #00af00\">1280</span>)     │     <span style=\"color: #00af00; text-decoration-color: #00af00\">2,257,984</span> │\n",
       "│ (<span style=\"color: #0087ff; text-decoration-color: #0087ff\">Functional</span>)                    │                        │               │\n",
       "├─────────────────────────────────┼────────────────────────┼───────────────┤\n",
       "│ global_average_pooling2d_1      │ (<span style=\"color: #00d7ff; text-decoration-color: #00d7ff\">None</span>, <span style=\"color: #00af00; text-decoration-color: #00af00\">1280</span>)           │             <span style=\"color: #00af00; text-decoration-color: #00af00\">0</span> │\n",
       "│ (<span style=\"color: #0087ff; text-decoration-color: #0087ff\">GlobalAveragePooling2D</span>)        │                        │               │\n",
       "├─────────────────────────────────┼────────────────────────┼───────────────┤\n",
       "│ dense_3 (<span style=\"color: #0087ff; text-decoration-color: #0087ff\">Dense</span>)                 │ (<span style=\"color: #00d7ff; text-decoration-color: #00d7ff\">None</span>, <span style=\"color: #00af00; text-decoration-color: #00af00\">512</span>)            │       <span style=\"color: #00af00; text-decoration-color: #00af00\">655,872</span> │\n",
       "├─────────────────────────────────┼────────────────────────┼───────────────┤\n",
       "│ dropout_1 (<span style=\"color: #0087ff; text-decoration-color: #0087ff\">Dropout</span>)             │ (<span style=\"color: #00d7ff; text-decoration-color: #00d7ff\">None</span>, <span style=\"color: #00af00; text-decoration-color: #00af00\">512</span>)            │             <span style=\"color: #00af00; text-decoration-color: #00af00\">0</span> │\n",
       "├─────────────────────────────────┼────────────────────────┼───────────────┤\n",
       "│ dense_4 (<span style=\"color: #0087ff; text-decoration-color: #0087ff\">Dense</span>)                 │ (<span style=\"color: #00d7ff; text-decoration-color: #00d7ff\">None</span>, <span style=\"color: #00af00; text-decoration-color: #00af00\">128</span>)            │        <span style=\"color: #00af00; text-decoration-color: #00af00\">65,664</span> │\n",
       "├─────────────────────────────────┼────────────────────────┼───────────────┤\n",
       "│ dense_5 (<span style=\"color: #0087ff; text-decoration-color: #0087ff\">Dense</span>)                 │ (<span style=\"color: #00d7ff; text-decoration-color: #00d7ff\">None</span>, <span style=\"color: #00af00; text-decoration-color: #00af00\">6</span>)              │           <span style=\"color: #00af00; text-decoration-color: #00af00\">774</span> │\n",
       "└─────────────────────────────────┴────────────────────────┴───────────────┘\n",
       "</pre>\n"
      ]
     },
     "metadata": {},
     "output_type": "display_data"
    },
    {
     "data": {
      "text/plain": [
       "\u001B[1m Total params: \u001B[0m\u001B[38;5;34m2,980,294\u001B[0m (11.37 MB)\n"
      ],
      "text/html": [
       "<pre style=\"white-space:pre;overflow-x:auto;line-height:normal;font-family:Menlo,'DejaVu Sans Mono',consolas,'Courier New',monospace\"><span style=\"font-weight: bold\"> Total params: </span><span style=\"color: #00af00; text-decoration-color: #00af00\">2,980,294</span> (11.37 MB)\n",
       "</pre>\n"
      ]
     },
     "metadata": {},
     "output_type": "display_data"
    },
    {
     "data": {
      "text/plain": [
       "\u001B[1m Trainable params: \u001B[0m\u001B[38;5;34m722,310\u001B[0m (2.76 MB)\n"
      ],
      "text/html": [
       "<pre style=\"white-space:pre;overflow-x:auto;line-height:normal;font-family:Menlo,'DejaVu Sans Mono',consolas,'Courier New',monospace\"><span style=\"font-weight: bold\"> Trainable params: </span><span style=\"color: #00af00; text-decoration-color: #00af00\">722,310</span> (2.76 MB)\n",
       "</pre>\n"
      ]
     },
     "metadata": {},
     "output_type": "display_data"
    },
    {
     "data": {
      "text/plain": [
       "\u001B[1m Non-trainable params: \u001B[0m\u001B[38;5;34m2,257,984\u001B[0m (8.61 MB)\n"
      ],
      "text/html": [
       "<pre style=\"white-space:pre;overflow-x:auto;line-height:normal;font-family:Menlo,'DejaVu Sans Mono',consolas,'Courier New',monospace\"><span style=\"font-weight: bold\"> Non-trainable params: </span><span style=\"color: #00af00; text-decoration-color: #00af00\">2,257,984</span> (8.61 MB)\n",
       "</pre>\n"
      ]
     },
     "metadata": {},
     "output_type": "display_data"
    }
   ],
   "execution_count": 17
  },
  {
   "metadata": {
    "ExecuteTime": {
     "end_time": "2025-06-14T19:40:05.005549900Z",
     "start_time": "2025-06-14T16:49:00.712354Z"
    }
   },
   "cell_type": "code",
   "source": "X_train, y_train, X_val, y_val, X_test, y_test = preprocess_dataset(base_dir='merge', img_size=(INPUT_SHAPE[0], INPUT_SHAPE[1]), max_images=MAX_IMAGES)",
   "id": "901d2b646ea0d254",
   "outputs": [
    {
     "name": "stdout",
     "output_type": "stream",
     "text": [
      "<UNK> Processing images in folder: merge/Apple__black_rot\n",
      "621\n",
      "<UNK> Processing images in folder: merge/Apple__healthy\n",
      "1649\n",
      "<UNK> Processing images in folder: merge/Apple__rust\n",
      "357\n",
      "<UNK> Processing images in folder: merge/Apple__scab\n",
      "700\n",
      "<UNK> Processing images in folder: merge/Cassava__bacterial_blight\n",
      "486\n",
      "<UNK> Processing images in folder: merge/Cassava__brown_streak_disease\n",
      "558\n",
      "<UNK> Processing images in folder: merge/Cassava__green_mottle\n",
      "471\n",
      "<UNK> Processing images in folder: merge/Cassava__healthy\n",
      "677\n",
      "<UNK> Processing images in folder: merge/Cassava__mosaic_disease\n",
      "444\n",
      "<UNK> Processing images in folder: merge/Cherry__healthy\n",
      "906\n",
      "<UNK> Processing images in folder: merge/Cherry__powdery_mildew\n",
      "1052\n",
      "<UNK> Processing images in folder: merge/Chili__healthy\n",
      "100\n",
      "<UNK> Processing images in folder: merge/Chili__leaf curl\n",
      "100\n",
      "<UNK> Processing images in folder: merge/Chili__leaf spot\n",
      "100\n",
      "<UNK> Processing images in folder: merge/Chili__whitefly\n",
      "100\n",
      "<UNK> Processing images in folder: merge/Chili__yellowish\n",
      "100\n",
      "<UNK> Processing images in folder: merge/Coffee__cercospora_leaf_spot\n",
      "55\n",
      "<UNK> Processing images in folder: merge/Coffee__healthy\n",
      "439\n",
      "<UNK> Processing images in folder: merge/Coffee__red_spider_mite\n",
      "167\n",
      "<UNK> Processing images in folder: merge/Coffee__rust\n",
      "442\n",
      "<UNK> Processing images in folder: merge/Corn__common_rust\n",
      "1308\n",
      "<UNK> Processing images in folder: merge/Corn__gray_leaf_spot\n",
      "1094\n",
      "<UNK> Processing images in folder: merge/Corn__healthy\n",
      "1162\n",
      "<UNK> Processing images in folder: merge/Corn__northern_leaf_blight\n",
      "1223\n",
      "<UNK> Processing images in folder: merge/Cucumber__diseased\n",
      "350\n",
      "<UNK> Processing images in folder: merge/Cucumber__healthy\n",
      "341\n",
      "<UNK> Processing images in folder: merge/Gauva__diseased\n",
      "142\n",
      "<UNK> Processing images in folder: merge/Gauva__healthy\n",
      "277\n",
      "<UNK> Processing images in folder: merge/Grape__black_measles\n",
      "1383\n",
      "<UNK> Processing images in folder: merge/Grape__black_rot\n",
      "11390\n",
      "<UNK> Processing images in folder: merge/Grape__healthy\n",
      "470\n",
      "<UNK> Processing images in folder: merge/Grape__leaf_blight_(isariopsis_leaf_spot)\n",
      "889\n",
      "<UNK> Processing images in folder: merge/Jamun__diseased\n",
      "345\n",
      "<UNK> Processing images in folder: merge/Jamun__healthy\n",
      "279\n",
      "<UNK> Processing images in folder: merge/Lemon__diseased\n",
      "77\n",
      "<UNK> Processing images in folder: merge/Lemon__healthy\n",
      "159\n",
      "<UNK> Processing images in folder: merge/Mango__diseased\n",
      "265\n",
      "<UNK> Processing images in folder: merge/Mango__healthy\n",
      "170\n",
      "<UNK> Processing images in folder: merge/Peach__bacterial_spot\n",
      "2297\n",
      "<UNK> Processing images in folder: merge/Peach__healthy\n",
      "363\n",
      "<UNK> Processing images in folder: merge/Pepper_bell__bacterial_spot\n",
      "1067\n",
      "<UNK> Processing images in folder: merge/Pepper_bell__healthy\n",
      "1539\n",
      "<UNK> Processing images in folder: merge/Pomegranate__diseased\n",
      "272\n",
      "<UNK> Processing images in folder: merge/Pomegranate__healthy\n",
      "287\n",
      "<UNK> Processing images in folder: merge/Potato__early_blight\n",
      "1096\n",
      "<UNK> Processing images in folder: merge/Potato__healthy\n",
      "152\n",
      "<UNK> Processing images in folder: merge/Potato__late_blight\n",
      "1093\n",
      "<UNK> Processing images in folder: merge/Rice__brown_spot\n",
      "653\n",
      "<UNK> Processing images in folder: merge/Rice__healthy\n",
      "1488\n",
      "<UNK> Processing images in folder: merge/Rice__hispa\n",
      "565\n",
      "<UNK> Processing images in folder: merge/Rice__leaf_blast\n",
      "981\n",
      "<UNK> Processing images in folder: merge/Rice__neck_blast\n",
      "1000\n",
      "<UNK> Processing images in folder: merge/Soybean__bacterial_blight\n",
      "56\n",
      "<UNK> Processing images in folder: merge/Soybean__caterpillar\n",
      "3309\n",
      "<UNK> Processing images in folder: merge/Soybean__diabrotica_speciosa\n",
      "2205\n",
      "<UNK> Processing images in folder: merge/Soybean__downy_mildew\n",
      "51\n",
      "❌ Failed to load image: merge/Soybean__downy_mildew\\C+¦pia de mildio4cvg.JPG\n",
      "❌ Failed to load image: merge/Soybean__downy_mildew\\C+¦pia de mildio8cgv.JPG\n",
      "<UNK> Processing images in folder: merge/Soybean__healthy\n",
      "5998\n",
      "<UNK> Processing images in folder: merge/Soybean__mosaic_virus\n",
      "22\n",
      "<UNK> Processing images in folder: merge/Soybean__powdery_mildew\n",
      "77\n",
      "❌ Failed to load image: merge/Soybean__powdery_mildew\\O+¡dio.jpg\n",
      "<UNK> Processing images in folder: merge/Soybean__rust\n",
      "65\n",
      "<UNK> Processing images in folder: merge/Soybean__southern_blight\n",
      "62\n",
      "<UNK> Processing images in folder: merge/Strawberry__healthy\n",
      "456\n",
      "<UNK> Processing images in folder: merge/Strawberry___leaf_scorch\n",
      "1109\n",
      "<UNK> Processing images in folder: merge/Sugarcane__bacterial_blight\n",
      "100\n",
      "<UNK> Processing images in folder: merge/Sugarcane__healthy\n",
      "180\n",
      "<UNK> Processing images in folder: merge/Sugarcane__red_rot\n",
      "174\n",
      "<UNK> Processing images in folder: merge/Sugarcane__red_stripe\n",
      "53\n",
      "<UNK> Processing images in folder: merge/Sugarcane__rust\n",
      "93\n",
      "<UNK> Processing images in folder: merge/Tea__algal_leaf\n",
      "339\n",
      "<UNK> Processing images in folder: merge/Tea__anthracnose\n",
      "300\n",
      "<UNK> Processing images in folder: merge/Tea__bird_eye_spot\n",
      "300\n",
      "<UNK> Processing images in folder: merge/Tea__brown_blight\n",
      "339\n",
      "<UNK> Processing images in folder: merge/Tea__healthy\n",
      "222\n",
      "<UNK> Processing images in folder: merge/Tea__red_leaf_spot\n",
      "429\n",
      "<UNK> Processing images in folder: merge/Tomato__bacterial_spot\n",
      "2136\n",
      "<UNK> Processing images in folder: merge/Tomato__early_blight\n",
      "1009\n",
      "<UNK> Processing images in folder: merge/Tomato__healthy\n",
      "1598\n",
      "<UNK> Processing images in folder: merge/Tomato__late_blight\n",
      "1919\n",
      "<UNK> Processing images in folder: merge/Tomato__leaf_mold\n",
      "957\n",
      "<UNK> Processing images in folder: merge/Tomato__mosaic_virus\n",
      "382\n",
      "<UNK> Processing images in folder: merge/Tomato__septoria_leaf_spot\n",
      "1782\n",
      "<UNK> Processing images in folder: merge/Tomato__spider_mites_(two_spotted_spider_mite)\n",
      "1676\n",
      "<UNK> Processing images in folder: merge/Tomato__target_spot\n",
      "1404\n",
      "<UNK> Processing images in folder: merge/Tomato__yellow_leaf_curl_virus\n",
      "3214\n",
      "<UNK> Processing images in folder: merge/Wheat__brown_rust\n",
      "916\n",
      "<UNK> Processing images in folder: merge/Wheat__healthy\n",
      "1225\n",
      "<UNK> Processing images in folder: merge/Wheat__septoria\n",
      "97\n",
      "<UNK> Processing images in folder: merge/Wheat__yellow_rust\n",
      "1132\n",
      "0: (2452, 224, 224, 3)\n",
      "1: (1056, 224, 224, 3)\n",
      "2: (699, 224, 224, 3)\n",
      "3: (700, 224, 224, 3)\n",
      "4: (908, 224, 224, 3)\n",
      "5: (2300, 224, 224, 3)\n"
     ]
    }
   ],
   "execution_count": 18
  },
  {
   "metadata": {
    "ExecuteTime": {
     "end_time": "2025-06-14T19:40:05.005549900Z",
     "start_time": "2025-06-14T16:53:33.297429Z"
    }
   },
   "cell_type": "code",
   "source": [
    "early_stopping = tf.keras.callbacks.EarlyStopping(\n",
    "    monitor='val_accuracy',\n",
    "    patience=7,\n",
    "    restore_best_weights=True\n",
    ")\n",
    "\n",
    "weights = compute_class_weight(\n",
    "    class_weight='balanced',\n",
    "    classes=np.unique(y_train),\n",
    "    y=y_train\n",
    ")\n",
    "class_weights = dict(enumerate(weights))\n",
    "\n",
    "history = train_model(model, X_train, y_train, X_val, y_val, batch_size=BATCH_SIZE, epochs=EPOCHS, callbacks=[early_stopping])\n",
    "\n",
    "plot_history(history)"
   ],
   "id": "48b68e10cf254f5a",
   "outputs": [
    {
     "name": "stdout",
     "output_type": "stream",
     "text": [
      "Epoch 1/100\n",
      "45/45 - 49s - 1s/step - accuracy: 0.6063 - loss: 1.0556 - val_accuracy: 0.7584 - val_loss: 0.6917\n",
      "Epoch 2/100\n",
      "45/45 - 45s - 1s/step - accuracy: 0.7717 - loss: 0.6099 - val_accuracy: 0.7855 - val_loss: 0.5692\n",
      "Epoch 3/100\n",
      "45/45 - 45s - 1s/step - accuracy: 0.8322 - loss: 0.4468 - val_accuracy: 0.8176 - val_loss: 0.5239\n",
      "Epoch 4/100\n",
      "45/45 - 45s - 1s/step - accuracy: 0.8643 - loss: 0.3595 - val_accuracy: 0.8291 - val_loss: 0.4789\n",
      "Epoch 5/100\n",
      "45/45 - 45s - 1s/step - accuracy: 0.8891 - loss: 0.2926 - val_accuracy: 0.8151 - val_loss: 0.5144\n",
      "Epoch 6/100\n",
      "45/45 - 45s - 1s/step - accuracy: 0.9044 - loss: 0.2473 - val_accuracy: 0.8414 - val_loss: 0.4361\n",
      "Epoch 7/100\n",
      "45/45 - 45s - 998ms/step - accuracy: 0.9278 - loss: 0.2013 - val_accuracy: 0.8463 - val_loss: 0.4583\n",
      "Epoch 8/100\n",
      "45/45 - 45s - 1s/step - accuracy: 0.9363 - loss: 0.1690 - val_accuracy: 0.8521 - val_loss: 0.4483\n",
      "Epoch 9/100\n",
      "45/45 - 45s - 1s/step - accuracy: 0.9519 - loss: 0.1412 - val_accuracy: 0.8398 - val_loss: 0.5320\n",
      "Epoch 10/100\n",
      "45/45 - 45s - 1000ms/step - accuracy: 0.9581 - loss: 0.1249 - val_accuracy: 0.8529 - val_loss: 0.4923\n",
      "Epoch 11/100\n",
      "45/45 - 45s - 1s/step - accuracy: 0.9585 - loss: 0.1156 - val_accuracy: 0.8447 - val_loss: 0.4755\n",
      "Epoch 12/100\n",
      "45/45 - 45s - 999ms/step - accuracy: 0.9680 - loss: 0.0962 - val_accuracy: 0.8373 - val_loss: 0.5728\n",
      "Epoch 13/100\n",
      "45/45 - 45s - 996ms/step - accuracy: 0.9750 - loss: 0.0717 - val_accuracy: 0.8595 - val_loss: 0.5174\n",
      "Epoch 14/100\n",
      "45/45 - 45s - 994ms/step - accuracy: 0.9794 - loss: 0.0681 - val_accuracy: 0.8570 - val_loss: 0.5220\n",
      "Epoch 15/100\n",
      "45/45 - 45s - 998ms/step - accuracy: 0.9813 - loss: 0.0620 - val_accuracy: 0.8348 - val_loss: 0.6146\n",
      "Epoch 16/100\n",
      "45/45 - 45s - 996ms/step - accuracy: 0.9826 - loss: 0.0570 - val_accuracy: 0.8611 - val_loss: 0.5447\n",
      "Epoch 17/100\n",
      "45/45 - 45s - 998ms/step - accuracy: 0.9790 - loss: 0.0629 - val_accuracy: 0.8505 - val_loss: 0.5462\n",
      "Epoch 18/100\n",
      "45/45 - 45s - 998ms/step - accuracy: 0.9785 - loss: 0.0636 - val_accuracy: 0.8373 - val_loss: 0.5651\n",
      "Epoch 19/100\n",
      "45/45 - 45s - 1000ms/step - accuracy: 0.9805 - loss: 0.0552 - val_accuracy: 0.8414 - val_loss: 0.5859\n",
      "Epoch 20/100\n",
      "45/45 - 45s - 998ms/step - accuracy: 0.9817 - loss: 0.0537 - val_accuracy: 0.8537 - val_loss: 0.5983\n",
      "Epoch 21/100\n",
      "45/45 - 45s - 999ms/step - accuracy: 0.9854 - loss: 0.0458 - val_accuracy: 0.8603 - val_loss: 0.5689\n",
      "Epoch 22/100\n",
      "45/45 - 45s - 998ms/step - accuracy: 0.9873 - loss: 0.0428 - val_accuracy: 0.8611 - val_loss: 0.5673\n",
      "Epoch 23/100\n",
      "45/45 - 45s - 999ms/step - accuracy: 0.9914 - loss: 0.0324 - val_accuracy: 0.8578 - val_loss: 0.6325\n"
     ]
    },
    {
     "data": {
      "text/plain": [
       "<Figure size 640x480 with 1 Axes>"
      ],
      "image/png": "[encoded data removed]"
     },
     "metadata": {},
     "output_type": "display_data"
    },
    {
     "data": {
      "text/plain": [
       "<Figure size 640x480 with 1 Axes>"
      ],
      "image/png": "[encoded data removed]"
     },
     "metadata": {},
     "output_type": "display_data"
    }
   ],
   "execution_count": 19
  },
  {
   "metadata": {
    "ExecuteTime": {
     "end_time": "2025-06-14T19:40:05.005549900Z",
     "start_time": "2025-06-14T17:10:53.192395Z"
    }
   },
   "cell_type": "code",
   "source": "plot_confussion_matrix(model, X_test, y_test)",
   "id": "d4bb18eb2486bd6c",
   "outputs": [
    {
     "name": "stdout",
     "output_type": "stream",
     "text": [
      "\u001B[1m39/39\u001B[0m \u001B[32m━━━━━━━━━━━━━━━━━━━━\u001B[0m\u001B[37m\u001B[0m \u001B[1m7s\u001B[0m 185ms/step - accuracy: 0.8523 - loss: 0.5366\n",
      "Test Loss: 0.5014626383781433\n",
      "Test Accuracy: 0.8571428656578064\n",
      "\u001B[1m39/39\u001B[0m \u001B[32m━━━━━━━━━━━━━━━━━━━━\u001B[0m\u001B[37m\u001B[0m \u001B[1m8s\u001B[0m 188ms/step\n"
     ]
    },
    {
     "data": {
      "text/plain": [
       "<Figure size 640x480 with 2 Axes>"
      ],
      "image/png": "[encoded data removed]"
     },
     "metadata": {},
     "output_type": "display_data"
    },
    {
     "name": "stdout",
     "output_type": "stream",
     "text": [
      "Confusion Matrix\n",
      "[[348   2   1   2   3  11]\n",
      " [ 16 112   2   1  10  19]\n",
      " [  3   1  86   0   1   6]\n",
      " [ 14   3   0  78   5   5]\n",
      " [  6   2   2   5 111  11]\n",
      " [ 13   7   8   2  13 309]]\n"
     ]
    }
   ],
   "execution_count": 20
  },
  {
   "metadata": {
    "ExecuteTime": {
     "end_time": "2025-06-14T19:40:05.005549900Z",
     "start_time": "2025-06-14T17:11:08.765260Z"
    }
   },
   "cell_type": "code",
   "source": "model.save(f\"{BATCH_SIZE}_mobilenetv2_{MAX_IMAGES}_{INPUT_SHAPE[0]}.keras\")",
   "id": "3281847ad62ed09f",
   "outputs": [],
   "execution_count": 21
  },
  {
   "metadata": {
    "ExecuteTime": {
     "end_time": "2025-06-14T19:40:05.005549900Z",
     "start_time": "2025-06-14T17:11:09.058640Z"
    }
   },
   "cell_type": "code",
   "source": [
    "base_model = ResNet50V2(\n",
    "    input_shape=INPUT_SHAPE,\n",
    "    include_top=False,\n",
    "    weights='imagenet'\n",
    ")\n",
    "\n",
    "# Freeze base layers initially\n",
    "base_model.trainable = False\n",
    "\n",
    "# Add custom head\n",
    "inputs = layers.Input(shape=INPUT_SHAPE)\n",
    "x = base_model(inputs, training=False)\n",
    "\n",
    "# Global pooling + dense layers\n",
    "x = layers.GlobalAveragePooling2D()(x)\n",
    "x = layers.Dense(512, activation='relu')(x)\n",
    "x = layers.Dropout(0.5)(x)\n",
    "x = layers.Dense(128, activation='relu')(x)\n",
    "outputs = layers.Dense(OUTPUT_SIZE, activation='softmax')(x)\n",
    "\n",
    "model = models.Model(inputs, outputs)\n",
    "\n",
    "# Compile model\n",
    "model.compile(\n",
    "    optimizer=tf.keras.optimizers.Adam(learning_rate=1e-3),\n",
    "    loss='sparse_categorical_crossentropy',\n",
    "    metrics=['accuracy']\n",
    ")\n",
    "\n",
    "# Model summary\n",
    "model.summary()"
   ],
   "id": "7bde7c6930b9beb1",
   "outputs": [
    {
     "data": {
      "text/plain": [
       "\u001B[1mModel: \"functional_2\"\u001B[0m\n"
      ],
      "text/html": [
       "<pre style=\"white-space:pre;overflow-x:auto;line-height:normal;font-family:Menlo,'DejaVu Sans Mono',consolas,'Courier New',monospace\"><span style=\"font-weight: bold\">Model: \"functional_2\"</span>\n",
       "</pre>\n"
      ]
     },
     "metadata": {},
     "output_type": "display_data"
    },
    {
     "data": {
      "text/plain": [
       "┏━━━━━━━━━━━━━━━━━━━━━━━━━━━━━━━━━┳━━━━━━━━━━━━━━━━━━━━━━━━┳━━━━━━━━━━━━━━━┓\n",
       "┃\u001B[1m \u001B[0m\u001B[1mLayer (type)                   \u001B[0m\u001B[1m \u001B[0m┃\u001B[1m \u001B[0m\u001B[1mOutput Shape          \u001B[0m\u001B[1m \u001B[0m┃\u001B[1m \u001B[0m\u001B[1m      Param #\u001B[0m\u001B[1m \u001B[0m┃\n",
       "┡━━━━━━━━━━━━━━━━━━━━━━━━━━━━━━━━━╇━━━━━━━━━━━━━━━━━━━━━━━━╇━━━━━━━━━━━━━━━┩\n",
       "│ input_layer_4 (\u001B[38;5;33mInputLayer\u001B[0m)      │ (\u001B[38;5;45mNone\u001B[0m, \u001B[38;5;34m224\u001B[0m, \u001B[38;5;34m224\u001B[0m, \u001B[38;5;34m3\u001B[0m)    │             \u001B[38;5;34m0\u001B[0m │\n",
       "├─────────────────────────────────┼────────────────────────┼───────────────┤\n",
       "│ resnet50v2 (\u001B[38;5;33mFunctional\u001B[0m)         │ (\u001B[38;5;45mNone\u001B[0m, \u001B[38;5;34m7\u001B[0m, \u001B[38;5;34m7\u001B[0m, \u001B[38;5;34m2048\u001B[0m)     │    \u001B[38;5;34m23,564,800\u001B[0m │\n",
       "├─────────────────────────────────┼────────────────────────┼───────────────┤\n",
       "│ global_average_pooling2d_2      │ (\u001B[38;5;45mNone\u001B[0m, \u001B[38;5;34m2048\u001B[0m)           │             \u001B[38;5;34m0\u001B[0m │\n",
       "│ (\u001B[38;5;33mGlobalAveragePooling2D\u001B[0m)        │                        │               │\n",
       "├─────────────────────────────────┼────────────────────────┼───────────────┤\n",
       "│ dense_6 (\u001B[38;5;33mDense\u001B[0m)                 │ (\u001B[38;5;45mNone\u001B[0m, \u001B[38;5;34m512\u001B[0m)            │     \u001B[38;5;34m1,049,088\u001B[0m │\n",
       "├─────────────────────────────────┼────────────────────────┼───────────────┤\n",
       "│ dropout_2 (\u001B[38;5;33mDropout\u001B[0m)             │ (\u001B[38;5;45mNone\u001B[0m, \u001B[38;5;34m512\u001B[0m)            │             \u001B[38;5;34m0\u001B[0m │\n",
       "├─────────────────────────────────┼────────────────────────┼───────────────┤\n",
       "│ dense_7 (\u001B[38;5;33mDense\u001B[0m)                 │ (\u001B[38;5;45mNone\u001B[0m, \u001B[38;5;34m128\u001B[0m)            │        \u001B[38;5;34m65,664\u001B[0m │\n",
       "├─────────────────────────────────┼────────────────────────┼───────────────┤\n",
       "│ dense_8 (\u001B[38;5;33mDense\u001B[0m)                 │ (\u001B[38;5;45mNone\u001B[0m, \u001B[38;5;34m6\u001B[0m)              │           \u001B[38;5;34m774\u001B[0m │\n",
       "└─────────────────────────────────┴────────────────────────┴───────────────┘\n"
      ],
      "text/html": [
       "<pre style=\"white-space:pre;overflow-x:auto;line-height:normal;font-family:Menlo,'DejaVu Sans Mono',consolas,'Courier New',monospace\">┏━━━━━━━━━━━━━━━━━━━━━━━━━━━━━━━━━┳━━━━━━━━━━━━━━━━━━━━━━━━┳━━━━━━━━━━━━━━━┓\n",
       "┃<span style=\"font-weight: bold\"> Layer (type)                    </span>┃<span style=\"font-weight: bold\"> Output Shape           </span>┃<span style=\"font-weight: bold\">       Param # </span>┃\n",
       "┡━━━━━━━━━━━━━━━━━━━━━━━━━━━━━━━━━╇━━━━━━━━━━━━━━━━━━━━━━━━╇━━━━━━━━━━━━━━━┩\n",
       "│ input_layer_4 (<span style=\"color: #0087ff; text-decoration-color: #0087ff\">InputLayer</span>)      │ (<span style=\"color: #00d7ff; text-decoration-color: #00d7ff\">None</span>, <span style=\"color: #00af00; text-decoration-color: #00af00\">224</span>, <span style=\"color: #00af00; text-decoration-color: #00af00\">224</span>, <span style=\"color: #00af00; text-decoration-color: #00af00\">3</span>)    │             <span style=\"color: #00af00; text-decoration-color: #00af00\">0</span> │\n",
       "├─────────────────────────────────┼────────────────────────┼───────────────┤\n",
       "│ resnet50v2 (<span style=\"color: #0087ff; text-decoration-color: #0087ff\">Functional</span>)         │ (<span style=\"color: #00d7ff; text-decoration-color: #00d7ff\">None</span>, <span style=\"color: #00af00; text-decoration-color: #00af00\">7</span>, <span style=\"color: #00af00; text-decoration-color: #00af00\">7</span>, <span style=\"color: #00af00; text-decoration-color: #00af00\">2048</span>)     │    <span style=\"color: #00af00; text-decoration-color: #00af00\">23,564,800</span> │\n",
       "├─────────────────────────────────┼────────────────────────┼───────────────┤\n",
       "│ global_average_pooling2d_2      │ (<span style=\"color: #00d7ff; text-decoration-color: #00d7ff\">None</span>, <span style=\"color: #00af00; text-decoration-color: #00af00\">2048</span>)           │             <span style=\"color: #00af00; text-decoration-color: #00af00\">0</span> │\n",
       "│ (<span style=\"color: #0087ff; text-decoration-color: #0087ff\">GlobalAveragePooling2D</span>)        │                        │               │\n",
       "├─────────────────────────────────┼────────────────────────┼───────────────┤\n",
       "│ dense_6 (<span style=\"color: #0087ff; text-decoration-color: #0087ff\">Dense</span>)                 │ (<span style=\"color: #00d7ff; text-decoration-color: #00d7ff\">None</span>, <span style=\"color: #00af00; text-decoration-color: #00af00\">512</span>)            │     <span style=\"color: #00af00; text-decoration-color: #00af00\">1,049,088</span> │\n",
       "├─────────────────────────────────┼────────────────────────┼───────────────┤\n",
       "│ dropout_2 (<span style=\"color: #0087ff; text-decoration-color: #0087ff\">Dropout</span>)             │ (<span style=\"color: #00d7ff; text-decoration-color: #00d7ff\">None</span>, <span style=\"color: #00af00; text-decoration-color: #00af00\">512</span>)            │             <span style=\"color: #00af00; text-decoration-color: #00af00\">0</span> │\n",
       "├─────────────────────────────────┼────────────────────────┼───────────────┤\n",
       "│ dense_7 (<span style=\"color: #0087ff; text-decoration-color: #0087ff\">Dense</span>)                 │ (<span style=\"color: #00d7ff; text-decoration-color: #00d7ff\">None</span>, <span style=\"color: #00af00; text-decoration-color: #00af00\">128</span>)            │        <span style=\"color: #00af00; text-decoration-color: #00af00\">65,664</span> │\n",
       "├─────────────────────────────────┼────────────────────────┼───────────────┤\n",
       "│ dense_8 (<span style=\"color: #0087ff; text-decoration-color: #0087ff\">Dense</span>)                 │ (<span style=\"color: #00d7ff; text-decoration-color: #00d7ff\">None</span>, <span style=\"color: #00af00; text-decoration-color: #00af00\">6</span>)              │           <span style=\"color: #00af00; text-decoration-color: #00af00\">774</span> │\n",
       "└─────────────────────────────────┴────────────────────────┴───────────────┘\n",
       "</pre>\n"
      ]
     },
     "metadata": {},
     "output_type": "display_data"
    },
    {
     "data": {
      "text/plain": [
       "\u001B[1m Total params: \u001B[0m\u001B[38;5;34m24,680,326\u001B[0m (94.15 MB)\n"
      ],
      "text/html": [
       "<pre style=\"white-space:pre;overflow-x:auto;line-height:normal;font-family:Menlo,'DejaVu Sans Mono',consolas,'Courier New',monospace\"><span style=\"font-weight: bold\"> Total params: </span><span style=\"color: #00af00; text-decoration-color: #00af00\">24,680,326</span> (94.15 MB)\n",
       "</pre>\n"
      ]
     },
     "metadata": {},
     "output_type": "display_data"
    },
    {
     "data": {
      "text/plain": [
       "\u001B[1m Trainable params: \u001B[0m\u001B[38;5;34m1,115,526\u001B[0m (4.26 MB)\n"
      ],
      "text/html": [
       "<pre style=\"white-space:pre;overflow-x:auto;line-height:normal;font-family:Menlo,'DejaVu Sans Mono',consolas,'Courier New',monospace\"><span style=\"font-weight: bold\"> Trainable params: </span><span style=\"color: #00af00; text-decoration-color: #00af00\">1,115,526</span> (4.26 MB)\n",
       "</pre>\n"
      ]
     },
     "metadata": {},
     "output_type": "display_data"
    },
    {
     "data": {
      "text/plain": [
       "\u001B[1m Non-trainable params: \u001B[0m\u001B[38;5;34m23,564,800\u001B[0m (89.89 MB)\n"
      ],
      "text/html": [
       "<pre style=\"white-space:pre;overflow-x:auto;line-height:normal;font-family:Menlo,'DejaVu Sans Mono',consolas,'Courier New',monospace\"><span style=\"font-weight: bold\"> Non-trainable params: </span><span style=\"color: #00af00; text-decoration-color: #00af00\">23,564,800</span> (89.89 MB)\n",
       "</pre>\n"
      ]
     },
     "metadata": {},
     "output_type": "display_data"
    }
   ],
   "execution_count": 22
  },
  {
   "metadata": {
    "ExecuteTime": {
     "end_time": "2025-06-14T19:40:05.006549700Z",
     "start_time": "2025-06-14T17:11:10.355613Z"
    }
   },
   "cell_type": "code",
   "source": [
    "early_stopping = tf.keras.callbacks.EarlyStopping(\n",
    "    monitor='val_accuracy',\n",
    "    patience=7,\n",
    "    restore_best_weights=True\n",
    ")\n",
    "\n",
    "weights = compute_class_weight(\n",
    "    class_weight='balanced',\n",
    "    classes=np.unique(y_train),\n",
    "    y=y_train\n",
    ")\n",
    "class_weights = dict(enumerate(weights))\n",
    "\n",
    "history = train_model(model, X_train, y_train, X_val, y_val, batch_size=BATCH_SIZE, epochs=EPOCHS,\n",
    "                      callbacks=[early_stopping])\n",
    "\n",
    "plot_history(history)"
   ],
   "id": "85c9f7c3a32f47f5",
   "outputs": [
    {
     "name": "stdout",
     "output_type": "stream",
     "text": [
      "Epoch 1/100\n",
      "45/45 - 164s - 4s/step - accuracy: 0.5555 - loss: 1.1779 - val_accuracy: 0.6919 - val_loss: 0.7927\n",
      "Epoch 2/100\n",
      "45/45 - 116s - 3s/step - accuracy: 0.9630 - loss: 0.0980 - val_accuracy: 0.8414 - val_loss: 0.6420\n",
      "Epoch 20/100\n",
      "45/45 - 108s - 2s/step - accuracy: 0.9695 - loss: 0.0927 - val_accuracy: 0.8463 - val_loss: 0.6663\n",
      "Epoch 21/100\n",
      "45/45 - 105s - 2s/step - accuracy: 0.9669 - loss: 0.0898 - val_accuracy: 0.8348 - val_loss: 0.6734\n",
      "Epoch 22/100\n",
      "45/45 - 105s - 2s/step - accuracy: 0.9755 - loss: 0.0704 - val_accuracy: 0.8373 - val_loss: 0.6687\n",
      "Epoch 23/100\n",
      "45/45 - 105s - 2s/step - accuracy: 0.9769 - loss: 0.0720 - val_accuracy: 0.8283 - val_loss: 0.7022\n",
      "Epoch 24/100\n",
      "45/45 - 114s - 3s/step - accuracy: 0.9778 - loss: 0.0635 - val_accuracy: 0.8324 - val_loss: 0.7299\n",
      "Epoch 25/100\n",
      "45/45 - 158s - 4s/step - accuracy: 0.9762 - loss: 0.0657 - val_accuracy: 0.8406 - val_loss: 0.7660\n",
      "Epoch 26/100\n",
      "45/45 - 159s - 4s/step - accuracy: 0.9783 - loss: 0.0675 - val_accuracy: 0.8316 - val_loss: 0.7947\n",
      "Epoch 27/100\n",
      "45/45 - 163s - 4s/step - accuracy: 0.9739 - loss: 0.0730 - val_accuracy: 0.8324 - val_loss: 0.7270\n"
     ]
    },
    {
     "data": {
      "text/plain": [
       "<Figure size 640x480 with 1 Axes>"
      ],
      "image/png": "[encoded data removed]"
     },
     "metadata": {},
     "output_type": "display_data"
    },
    {
     "data": {
      "text/plain": [
       "<Figure size 640x480 with 1 Axes>"
      ],
      "image/png": "[encoded data removed]"
     },
     "metadata": {},
     "output_type": "display_data"
    }
   ],
   "execution_count": 23
  },
  {
   "metadata": {
    "ExecuteTime": {
     "end_time": "2025-06-14T19:40:05.006549700Z",
     "start_time": "2025-06-14T18:03:44.729386Z"
    }
   },
   "cell_type": "code",
   "source": "plot_confussion_matrix(model, X_test, y_test)",
   "id": "ec314283c9647168",
   "outputs": [
    {
     "name": "stdout",
     "output_type": "stream",
     "text": [
      "\u001B[1m39/39\u001B[0m \u001B[32m━━━━━━━━━━━━━━━━━━━━\u001B[0m\u001B[37m\u001B[0m \u001B[1m30s\u001B[0m 780ms/step - accuracy: 0.8218 - loss: 0.7147\n",
      "Test Loss: 0.6597067713737488\n",
      "Test Accuracy: 0.8390804529190063\n",
      "\u001B[1m39/39\u001B[0m \u001B[32m━━━━━━━━━━━━━━━━━━━━\u001B[0m\u001B[37m\u001B[0m \u001B[1m31s\u001B[0m 789ms/step\n"
     ]
    },
    {
     "data": {
      "text/plain": [
       "<Figure size 640x480 with 2 Axes>"
      ],
      "image/png": "[encoded data removed]"
     },
     "metadata": {},
     "output_type": "display_data"
    },
    {
     "name": "stdout",
     "output_type": "stream",
     "text": [
      "Confusion Matrix\n",
      "[[334   8   2   6   2  15]\n",
      " [ 15 115   3   2  12  13]\n",
      " [  5   3  86   0   0   3]\n",
      " [  9   2   1  84   5   4]\n",
      " [  3   7   5   8 103  11]\n",
      " [ 10  13  14   7   8 300]]\n"
     ]
    }
   ],
   "execution_count": 24
  },
  {
   "metadata": {
    "ExecuteTime": {
     "end_time": "2025-06-14T19:40:05.006549700Z",
     "start_time": "2025-06-14T18:04:48.744217Z"
    }
   },
   "cell_type": "code",
   "source": "model.save(f\"{BATCH_SIZE}_resnetv50_{MAX_IMAGES}_{INPUT_SHAPE[0]}.keras\")",
   "id": "96248870d9015c32",
   "outputs": [],
   "execution_count": 25
  }
 ],
 "metadata": {
  "kernelspec": {
   "display_name": "Python 3",
   "language": "python",
   "name": "python3"
  },
  "language_info": {
   "codemirror_mode": {
    "name": "ipython",
    "version": 2
   },
   "file_extension": ".py",
   "mimetype": "text/x-python",
   "name": "python",
   "nbconvert_exporter": "python",
   "pygments_lexer": "ipython2",
   "version": "2.7.6"
  }
 },
 "nbformat": 4,
 "nbformat_minor": 5
}
