{
 "cells": [
  {
   "cell_type": "code",
   "id": "initial_id",
   "metadata": {
    "collapsed": true,
    "ExecuteTime": {
     "end_time": "2025-04-08T11:43:56.404920Z",
     "start_time": "2025-04-08T11:43:56.402413Z"
    }
   },
   "source": [
    "import pandas as pd\n",
    "from sklearn.model_selection import train_test_split\n",
    "import torch\n",
    "import torch.nn as nn\n",
    "import torch.optim as optim\n",
    "from sklearn.metrics import accuracy_score, classification_report, confusion_matrix, ConfusionMatrixDisplay\n",
    "import matplotlib.pyplot as plt\n",
    "import pickle as pkl\n",
    "from scipy.interpolate import interp1d"
   ],
   "outputs": [],
   "execution_count": 137
  },
  {
   "metadata": {
    "ExecuteTime": {
     "end_time": "2025-04-08T11:43:57.032710Z",
     "start_time": "2025-04-08T11:43:57.026189Z"
    }
   },
   "cell_type": "code",
   "source": [
    "data = pd.read_csv(\n",
    "    'dataset/AmritpalKaur.csv')\n",
    "\n",
    "X = data[['Soil Moisture', 'Temperature', 'Air Humidity']]\n",
    "y = data['Pump Data']"
   ],
   "id": "e2cdcd68a2f34d4d",
   "outputs": [],
   "execution_count": 138
  },
  {
   "metadata": {
    "ExecuteTime": {
     "end_time": "2025-04-08T11:43:57.605302Z",
     "start_time": "2025-04-08T11:43:57.602406Z"
    }
   },
   "cell_type": "code",
   "source": "X['Soil Moisture'] = interp1d([X['Soil Moisture'].min(), X['Soil Moisture'].max()], [0, 100])(X['Soil Moisture'])",
   "id": "b23abf0b81af78d6",
   "outputs": [
    {
     "name": "stderr",
     "output_type": "stream",
     "text": [
      "C:\\Users\\alexa\\AppData\\Local\\Temp\\ipykernel_16076\\1438587549.py:1: SettingWithCopyWarning: \n",
      "A value is trying to be set on a copy of a slice from a DataFrame.\n",
      "Try using .loc[row_indexer,col_indexer] = value instead\n",
      "\n",
      "See the caveats in the documentation: https://pandas.pydata.org/pandas-docs/stable/user_guide/indexing.html#returning-a-view-versus-a-copy\n",
      "  X['Soil Moisture'] = interp1d([X['Soil Moisture'].min(), X['Soil Moisture'].max()], [0, 100])(X['Soil Moisture'])\n"
     ]
    }
   ],
   "execution_count": 139
  },
  {
   "metadata": {
    "ExecuteTime": {
     "end_time": "2025-04-08T11:43:58.777330Z",
     "start_time": "2025-04-08T11:43:58.773848Z"
    }
   },
   "cell_type": "code",
   "source": [
    "\n",
    "X_train, X_test, y_train, y_test = train_test_split(X, y, test_size=0.2)"
   ],
   "id": "86947b774b0b1489",
   "outputs": [],
   "execution_count": 140
  },
  {
   "metadata": {
    "ExecuteTime": {
     "end_time": "2025-04-08T11:43:59.404567Z",
     "start_time": "2025-04-08T11:43:59.401841Z"
    }
   },
   "cell_type": "code",
   "source": [
    "class IrrigationDataset(torch.utils.data.Dataset):\n",
    "    def __init__(self, features, labels, scale_data=True):\n",
    "        if scale_data:\n",
    "            features = interp1d([features.min(), features.max()], [0, 1])(features)\n",
    "        self.features = features\n",
    "        self.labels = labels\n",
    "\n",
    "    def __len__(self):\n",
    "        return len(self.features)\n",
    "\n",
    "    def __getitem__(self, idx):\n",
    "        return self.features[idx], self.labels[idx]"
   ],
   "id": "ba26f83c1971df68",
   "outputs": [],
   "execution_count": 141
  },
  {
   "metadata": {
    "ExecuteTime": {
     "end_time": "2025-04-08T11:44:00.615933Z",
     "start_time": "2025-04-08T11:44:00.613061Z"
    }
   },
   "cell_type": "code",
   "source": [
    "class WaterNN(nn.Module):\n",
    "    def __init__(self, input_size, hidden_size, output_size):\n",
    "        super(WaterNN, self).__init__()\n",
    "        self.fc1 = nn.Linear(input_size, hidden_size)\n",
    "        self.relu = nn.ReLU()\n",
    "        self.fc2 = nn.Linear(hidden_size, output_size)\n",
    "        self.sigmoid = nn.Sigmoid()\n",
    "\n",
    "    def forward(self, x):\n",
    "        out = self.fc1(x)\n",
    "        out = self.relu(out)\n",
    "        out = self.fc2(out)\n",
    "        out = self.sigmoid(out)\n",
    "        return out"
   ],
   "id": "a8eab5b7477c6a91",
   "outputs": [],
   "execution_count": 142
  },
  {
   "metadata": {
    "ExecuteTime": {
     "end_time": "2025-04-08T11:44:01.502762Z",
     "start_time": "2025-04-08T11:44:01.499402Z"
    }
   },
   "cell_type": "code",
   "source": [
    "input_size = X_train.shape[1]\n",
    "hidden_size = 10\n",
    "output_size = 1\n",
    "model = WaterNN(input_size, hidden_size, output_size)"
   ],
   "id": "b07cd26575582c4d",
   "outputs": [],
   "execution_count": 143
  },
  {
   "metadata": {
    "ExecuteTime": {
     "end_time": "2025-04-08T11:44:02.750372Z",
     "start_time": "2025-04-08T11:44:02.746717Z"
    }
   },
   "cell_type": "code",
   "source": [
    "criterion = nn.MSELoss()\n",
    "optimizer = optim.Adam(model.parameters(), lr=0.001)\n",
    "num_epochs = 100\n",
    "X_train_tensor = torch.tensor(X_train.values, dtype=torch.float32)\n",
    "y_train_tensor = torch.tensor(y_train.values, dtype=torch.float32).view(-1, 1)\n",
    "X_test_tensor = torch.tensor(X_test.values, dtype=torch.float32)\n",
    "y_test_tensor = torch.tensor(y_test.values, dtype=torch.float32).view(-1, 1)"
   ],
   "id": "ed95a715382ad81c",
   "outputs": [],
   "execution_count": 144
  },
  {
   "metadata": {
    "ExecuteTime": {
     "end_time": "2025-04-08T11:44:03.577423Z",
     "start_time": "2025-04-08T11:44:03.574034Z"
    }
   },
   "cell_type": "code",
   "source": [
    "train_dataset = IrrigationDataset(X_train_tensor, y_train_tensor)\n",
    "train_loader = torch.utils.data.DataLoader(train_dataset, batch_size=32, shuffle=True)"
   ],
   "id": "30f390bd569a636a",
   "outputs": [],
   "execution_count": 145
  },
  {
   "metadata": {
    "ExecuteTime": {
     "end_time": "2025-04-08T11:44:04.242582Z",
     "start_time": "2025-04-08T11:44:04.180112Z"
    }
   },
   "cell_type": "code",
   "source": [
    "\n",
    "train_losses = []\n",
    "test_losses = []\n",
    "for epoch in range(num_epochs):\n",
    "    model.train()\n",
    "    optimizer.zero_grad()\n",
    "    outputs = model(X_train_tensor)\n",
    "    loss = criterion(outputs, y_train_tensor)\n",
    "    loss.backward()\n",
    "    optimizer.step()\n",
    "\n",
    "    train_losses.append(loss.item())\n",
    "\n",
    "    model.eval()\n",
    "    with torch.no_grad():\n",
    "        test_outputs = model(X_test_tensor)\n",
    "        test_loss = criterion(test_outputs, y_test_tensor)\n",
    "        test_losses.append(test_loss.item())\n",
    "\n",
    "    if (epoch + 1) % 10 == 0:\n",
    "        print(f'Epoch [{epoch + 1}/{num_epochs}], Train Loss: {loss.item():.4f}, Test Loss: {test_loss.item():.4f}')"
   ],
   "id": "34d39dc8421bbab8",
   "outputs": [
    {
     "name": "stdout",
     "output_type": "stream",
     "text": [
      "Epoch [10/100], Train Loss: 0.4771, Test Loss: 0.4767\n",
      "Epoch [20/100], Train Loss: 0.4770, Test Loss: 0.4766\n",
      "Epoch [30/100], Train Loss: 0.4765, Test Loss: 0.4760\n",
      "Epoch [40/100], Train Loss: 0.4658, Test Loss: 0.4617\n",
      "Epoch [50/100], Train Loss: 0.2637, Test Loss: 0.2263\n",
      "Epoch [60/100], Train Loss: 0.1392, Test Loss: 0.1548\n",
      "Epoch [70/100], Train Loss: 0.0873, Test Loss: 0.0926\n",
      "Epoch [80/100], Train Loss: 0.0750, Test Loss: 0.0794\n",
      "Epoch [90/100], Train Loss: 0.0605, Test Loss: 0.0672\n",
      "Epoch [100/100], Train Loss: 0.0560, Test Loss: 0.0627\n"
     ]
    }
   ],
   "execution_count": 146
  },
  {
   "metadata": {
    "ExecuteTime": {
     "end_time": "2025-04-08T11:45:50.495868Z",
     "start_time": "2025-04-08T11:45:50.441845Z"
    }
   },
   "cell_type": "code",
   "source": [
    "plt.plot(train_losses, label='Train Loss')\n",
    "plt.plot(test_losses, label='Test Loss')\n",
    "plt.xlabel('Epoch')\n",
    "plt.ylabel('Loss')\n",
    "plt.title('Loss vs Epoch')\n",
    "plt.legend()\n",
    "plt.show()"
   ],
   "id": "15ad5d6323f939bb",
   "outputs": [
    {
     "data": {
      "text/plain": [
       "<Figure size 640x480 with 1 Axes>"
      ],
      "image/png": "[encoded data removed]"
     },
     "metadata": {},
     "output_type": "display_data"
    }
   ],
   "execution_count": 151
  },
  {
   "metadata": {
    "ExecuteTime": {
     "end_time": "2025-04-08T11:45:52.542944Z",
     "start_time": "2025-04-08T11:45:52.491041Z"
    }
   },
   "cell_type": "code",
   "source": [
    "cm = confusion_matrix(y_test, test_outputs.round())\n",
    "ConfusionMatrixDisplay(confusion_matrix=cm).plot()\n",
    "plt.show()"
   ],
   "id": "b98aac9ce76c3081",
   "outputs": [
    {
     "data": {
      "text/plain": [
       "<Figure size 640x480 with 2 Axes>"
      ],
      "image/png": "[encoded data removed]"
     },
     "metadata": {},
     "output_type": "display_data"
    }
   ],
   "execution_count": 152
  },
  {
   "metadata": {
    "ExecuteTime": {
     "end_time": "2025-04-08T11:45:53.804237Z",
     "start_time": "2025-04-08T11:45:53.797063Z"
    }
   },
   "cell_type": "code",
   "source": [
    "print(f'Accuracy: {accuracy_score(y_test, test_outputs.round())}')\n",
    "print(f'Report: {classification_report(y_test, test_outputs.round())}')"
   ],
   "id": "6076a64678a5b774",
   "outputs": [
    {
     "name": "stdout",
     "output_type": "stream",
     "text": [
      "Accuracy: 0.9116666666666666\n",
      "Report:               precision    recall  f1-score   support\n",
      "\n",
      "           0       0.87      0.97      0.91       286\n",
      "           1       0.96      0.86      0.91       314\n",
      "\n",
      "    accuracy                           0.91       600\n",
      "   macro avg       0.91      0.91      0.91       600\n",
      "weighted avg       0.92      0.91      0.91       600\n",
      "\n"
     ]
    }
   ],
   "execution_count": 153
  },
  {
   "metadata": {
    "ExecuteTime": {
     "end_time": "2025-04-08T11:45:57.734867Z",
     "start_time": "2025-04-08T11:45:57.731134Z"
    }
   },
   "cell_type": "code",
   "source": [
    "model_file = 'water_nn.pkl'\n",
    "file = open(model_file, 'wb')\n",
    "pkl.dump(model, file)"
   ],
   "id": "2375fb689b7e50a1",
   "outputs": [],
   "execution_count": 154
  }
 ],
 "metadata": {
  "kernelspec": {
   "display_name": "Python 3",
   "language": "python",
   "name": "python3"
  },
  "language_info": {
   "codemirror_mode": {
    "name": "ipython",
    "version": 2
   },
   "file_extension": ".py",
   "mimetype": "text/x-python",
   "name": "python",
   "nbconvert_exporter": "python",
   "pygments_lexer": "ipython2",
   "version": "2.7.6"
  }
 },
 "nbformat": 4,
 "nbformat_minor": 5
}
